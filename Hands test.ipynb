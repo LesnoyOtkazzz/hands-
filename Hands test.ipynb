{
 "cells": [
  {
   "cell_type": "code",
   "execution_count": 1,
   "id": "d2bbc9e8",
   "metadata": {},
   "outputs": [],
   "source": [
    "import pandas as pd\n",
    "import numpy as np\n",
    "import scipy.optimize \n",
    "import plotly.express as pl"
   ]
  },
  {
   "cell_type": "markdown",
   "id": "e6b77d9b",
   "metadata": {},
   "source": [
    "# Вопрос 1"
   ]
  },
  {
   "cell_type": "markdown",
   "id": "06db9fb5",
   "metadata": {},
   "source": [
    "Для первичного осмотра того, что происходит с retention, построим график retention в целом по всем клиентам."
   ]
  },
  {
   "cell_type": "code",
   "execution_count": 43,
   "id": "aa240b99",
   "metadata": {},
   "outputs": [],
   "source": [
    "data = pd.read_excel(\"test_data_1.xlsx\")\n",
    "data[\"order_date\"]=data[\"order_date\"].apply(pd.to_datetime)\n",
    "data=data.sort_values(['order_date']).reset_index(drop=True)"
   ]
  },
  {
   "cell_type": "code",
   "execution_count": 44,
   "id": "d46c22f4",
   "metadata": {},
   "outputs": [],
   "source": [
    "data[\"time_diff\"] = 0\n",
    "dct = {i : 0 for i in data[\"client_id\"].unique()}"
   ]
  },
  {
   "cell_type": "code",
   "execution_count": 45,
   "id": "372c9793",
   "metadata": {},
   "outputs": [
    {
     "name": "stderr",
     "output_type": "stream",
     "text": [
      "C:\\Users\\1\\AppData\\Local\\Temp\\ipykernel_13360\\827410020.py:3: SettingWithCopyWarning:\n",
      "\n",
      "\n",
      "A value is trying to be set on a copy of a slice from a DataFrame\n",
      "\n",
      "See the caveats in the documentation: https://pandas.pydata.org/pandas-docs/stable/user_guide/indexing.html#returning-a-view-versus-a-copy\n",
      "\n",
      "C:\\Users\\1\\AppData\\Local\\Temp\\ipykernel_13360\\827410020.py:6: SettingWithCopyWarning:\n",
      "\n",
      "\n",
      "A value is trying to be set on a copy of a slice from a DataFrame\n",
      "\n",
      "See the caveats in the documentation: https://pandas.pydata.org/pandas-docs/stable/user_guide/indexing.html#returning-a-view-versus-a-copy\n",
      "\n"
     ]
    }
   ],
   "source": [
    "for i in range(len(data)):\n",
    "    if dct[data[\"client_id\"].loc[i]] ==0:\n",
    "        data[\"time_diff\"].loc[i]=0\n",
    "        dct[data[\"client_id\"].loc[i]] = data[\"order_date\"].loc[i]\n",
    "    else:\n",
    "        data[\"time_diff\"].loc[i] = (data[\"order_date\"].loc[i]-dct[data[\"client_id\"].loc[i]])/np.timedelta64(1, 'D')"
   ]
  },
  {
   "cell_type": "markdown",
   "id": "6f7d9f71",
   "metadata": {},
   "source": [
    "Я осознанно игнорирую первую точку на графике (по-сути, день первой покупки), потому что если её оставить график будет практически нечитаемый."
   ]
  },
  {
   "cell_type": "code",
   "execution_count": 46,
   "id": "f30703eb",
   "metadata": {},
   "outputs": [
    {
     "data": {
      "application/vnd.plotly.v1+json": {
       "config": {
        "plotlyServerURL": "https://plot.ly"
       },
       "data": [
        {
         "hovertemplate": "variable=client_id<br>time_diff=%{x}<br>value=%{y}<extra></extra>",
         "legendgroup": "client_id",
         "line": {
          "color": "#636efa",
          "dash": "solid"
         },
         "marker": {
          "symbol": "circle"
         },
         "mode": "lines",
         "name": "client_id",
         "orientation": "v",
         "showlegend": true,
         "type": "scatter",
         "x": [
          3,
          4,
          5,
          6,
          7,
          8,
          9,
          10,
          11,
          12,
          13,
          14,
          15,
          16,
          17,
          18,
          19,
          20,
          21,
          22,
          23,
          24,
          25,
          26,
          27,
          28,
          29,
          30,
          31,
          32,
          33,
          34,
          35,
          36,
          37,
          38,
          39,
          40,
          41,
          42,
          43,
          44,
          45,
          46,
          47,
          48,
          49,
          50,
          51,
          52,
          53,
          54,
          55,
          56,
          57,
          58,
          59,
          60,
          61,
          62,
          63,
          64,
          65,
          66,
          67,
          68,
          69,
          70,
          71,
          72,
          73,
          74,
          75,
          76,
          77,
          78,
          79,
          80,
          81,
          82,
          83,
          85,
          86,
          87,
          88,
          89
         ],
         "xaxis": "x",
         "y": [
          0.7170868347338936,
          0.8179271708683473,
          0.7507002801120448,
          0.6610644257703081,
          0.7619047619047619,
          0.649859943977591,
          0.6946778711484594,
          0.6386554621848739,
          0.5042016806722689,
          0.649859943977591,
          0.6946778711484594,
          0.7394957983193278,
          0.773109243697479,
          0.6386554621848739,
          0.6386554621848739,
          0.6162464985994398,
          0.6386554621848739,
          0.6946778711484594,
          0.7058823529411765,
          0.5378151260504201,
          0.7619047619047619,
          0.6834733893557423,
          0.6274509803921569,
          0.7619047619047619,
          0.7282913165266106,
          0.515406162464986,
          0.6610644257703081,
          0.6834733893557423,
          0.11204481792717086,
          0.04481792717086835,
          0.03361344537815126,
          0.05602240896358543,
          0.06722689075630252,
          0.0784313725490196,
          0.022408963585434174,
          0.06722689075630252,
          0.05602240896358543,
          0.04481792717086835,
          0.03361344537815126,
          0.03361344537815126,
          0.022408963585434174,
          0.04481792717086835,
          0.0784313725490196,
          0.12324929971988796,
          0.11204481792717086,
          0.06722689075630252,
          0.11204481792717086,
          0.11204481792717086,
          0.10084033613445378,
          0.05602240896358543,
          0.06722689075630252,
          0.0896358543417367,
          0.10084033613445378,
          0.0896358543417367,
          0.0896358543417367,
          0.11204481792717086,
          0.10084033613445378,
          0.06722689075630252,
          0.11204481792717086,
          0.0784313725490196,
          0.12324929971988796,
          0.0896358543417367,
          0.04481792717086835,
          0.04481792717086835,
          0.03361344537815126,
          0.0784313725490196,
          0.06722689075630252,
          0.04481792717086835,
          0.0896358543417367,
          0.04481792717086835,
          0.0896358543417367,
          0.04481792717086835,
          0.04481792717086835,
          0.03361344537815126,
          0.03361344537815126,
          0.022408963585434174,
          0.022408963585434174,
          0.011204481792717087,
          0.022408963585434174,
          0.011204481792717087,
          0.022408963585434174,
          0.011204481792717087,
          0.011204481792717087,
          0.022408963585434174,
          0.011204481792717087,
          0.011204481792717087
         ],
         "yaxis": "y"
        }
       ],
       "layout": {
        "legend": {
         "title": {
          "text": "variable"
         },
         "tracegroupgap": 0
        },
        "margin": {
         "t": 60
        },
        "template": {
         "data": {
          "bar": [
           {
            "error_x": {
             "color": "#2a3f5f"
            },
            "error_y": {
             "color": "#2a3f5f"
            },
            "marker": {
             "line": {
              "color": "#E5ECF6",
              "width": 0.5
             },
             "pattern": {
              "fillmode": "overlay",
              "size": 10,
              "solidity": 0.2
             }
            },
            "type": "bar"
           }
          ],
          "barpolar": [
           {
            "marker": {
             "line": {
              "color": "#E5ECF6",
              "width": 0.5
             },
             "pattern": {
              "fillmode": "overlay",
              "size": 10,
              "solidity": 0.2
             }
            },
            "type": "barpolar"
           }
          ],
          "carpet": [
           {
            "aaxis": {
             "endlinecolor": "#2a3f5f",
             "gridcolor": "white",
             "linecolor": "white",
             "minorgridcolor": "white",
             "startlinecolor": "#2a3f5f"
            },
            "baxis": {
             "endlinecolor": "#2a3f5f",
             "gridcolor": "white",
             "linecolor": "white",
             "minorgridcolor": "white",
             "startlinecolor": "#2a3f5f"
            },
            "type": "carpet"
           }
          ],
          "choropleth": [
           {
            "colorbar": {
             "outlinewidth": 0,
             "ticks": ""
            },
            "type": "choropleth"
           }
          ],
          "contour": [
           {
            "colorbar": {
             "outlinewidth": 0,
             "ticks": ""
            },
            "colorscale": [
             [
              0,
              "#0d0887"
             ],
             [
              0.1111111111111111,
              "#46039f"
             ],
             [
              0.2222222222222222,
              "#7201a8"
             ],
             [
              0.3333333333333333,
              "#9c179e"
             ],
             [
              0.4444444444444444,
              "#bd3786"
             ],
             [
              0.5555555555555556,
              "#d8576b"
             ],
             [
              0.6666666666666666,
              "#ed7953"
             ],
             [
              0.7777777777777778,
              "#fb9f3a"
             ],
             [
              0.8888888888888888,
              "#fdca26"
             ],
             [
              1,
              "#f0f921"
             ]
            ],
            "type": "contour"
           }
          ],
          "contourcarpet": [
           {
            "colorbar": {
             "outlinewidth": 0,
             "ticks": ""
            },
            "type": "contourcarpet"
           }
          ],
          "heatmap": [
           {
            "colorbar": {
             "outlinewidth": 0,
             "ticks": ""
            },
            "colorscale": [
             [
              0,
              "#0d0887"
             ],
             [
              0.1111111111111111,
              "#46039f"
             ],
             [
              0.2222222222222222,
              "#7201a8"
             ],
             [
              0.3333333333333333,
              "#9c179e"
             ],
             [
              0.4444444444444444,
              "#bd3786"
             ],
             [
              0.5555555555555556,
              "#d8576b"
             ],
             [
              0.6666666666666666,
              "#ed7953"
             ],
             [
              0.7777777777777778,
              "#fb9f3a"
             ],
             [
              0.8888888888888888,
              "#fdca26"
             ],
             [
              1,
              "#f0f921"
             ]
            ],
            "type": "heatmap"
           }
          ],
          "heatmapgl": [
           {
            "colorbar": {
             "outlinewidth": 0,
             "ticks": ""
            },
            "colorscale": [
             [
              0,
              "#0d0887"
             ],
             [
              0.1111111111111111,
              "#46039f"
             ],
             [
              0.2222222222222222,
              "#7201a8"
             ],
             [
              0.3333333333333333,
              "#9c179e"
             ],
             [
              0.4444444444444444,
              "#bd3786"
             ],
             [
              0.5555555555555556,
              "#d8576b"
             ],
             [
              0.6666666666666666,
              "#ed7953"
             ],
             [
              0.7777777777777778,
              "#fb9f3a"
             ],
             [
              0.8888888888888888,
              "#fdca26"
             ],
             [
              1,
              "#f0f921"
             ]
            ],
            "type": "heatmapgl"
           }
          ],
          "histogram": [
           {
            "marker": {
             "pattern": {
              "fillmode": "overlay",
              "size": 10,
              "solidity": 0.2
             }
            },
            "type": "histogram"
           }
          ],
          "histogram2d": [
           {
            "colorbar": {
             "outlinewidth": 0,
             "ticks": ""
            },
            "colorscale": [
             [
              0,
              "#0d0887"
             ],
             [
              0.1111111111111111,
              "#46039f"
             ],
             [
              0.2222222222222222,
              "#7201a8"
             ],
             [
              0.3333333333333333,
              "#9c179e"
             ],
             [
              0.4444444444444444,
              "#bd3786"
             ],
             [
              0.5555555555555556,
              "#d8576b"
             ],
             [
              0.6666666666666666,
              "#ed7953"
             ],
             [
              0.7777777777777778,
              "#fb9f3a"
             ],
             [
              0.8888888888888888,
              "#fdca26"
             ],
             [
              1,
              "#f0f921"
             ]
            ],
            "type": "histogram2d"
           }
          ],
          "histogram2dcontour": [
           {
            "colorbar": {
             "outlinewidth": 0,
             "ticks": ""
            },
            "colorscale": [
             [
              0,
              "#0d0887"
             ],
             [
              0.1111111111111111,
              "#46039f"
             ],
             [
              0.2222222222222222,
              "#7201a8"
             ],
             [
              0.3333333333333333,
              "#9c179e"
             ],
             [
              0.4444444444444444,
              "#bd3786"
             ],
             [
              0.5555555555555556,
              "#d8576b"
             ],
             [
              0.6666666666666666,
              "#ed7953"
             ],
             [
              0.7777777777777778,
              "#fb9f3a"
             ],
             [
              0.8888888888888888,
              "#fdca26"
             ],
             [
              1,
              "#f0f921"
             ]
            ],
            "type": "histogram2dcontour"
           }
          ],
          "mesh3d": [
           {
            "colorbar": {
             "outlinewidth": 0,
             "ticks": ""
            },
            "type": "mesh3d"
           }
          ],
          "parcoords": [
           {
            "line": {
             "colorbar": {
              "outlinewidth": 0,
              "ticks": ""
             }
            },
            "type": "parcoords"
           }
          ],
          "pie": [
           {
            "automargin": true,
            "type": "pie"
           }
          ],
          "scatter": [
           {
            "fillpattern": {
             "fillmode": "overlay",
             "size": 10,
             "solidity": 0.2
            },
            "type": "scatter"
           }
          ],
          "scatter3d": [
           {
            "line": {
             "colorbar": {
              "outlinewidth": 0,
              "ticks": ""
             }
            },
            "marker": {
             "colorbar": {
              "outlinewidth": 0,
              "ticks": ""
             }
            },
            "type": "scatter3d"
           }
          ],
          "scattercarpet": [
           {
            "marker": {
             "colorbar": {
              "outlinewidth": 0,
              "ticks": ""
             }
            },
            "type": "scattercarpet"
           }
          ],
          "scattergeo": [
           {
            "marker": {
             "colorbar": {
              "outlinewidth": 0,
              "ticks": ""
             }
            },
            "type": "scattergeo"
           }
          ],
          "scattergl": [
           {
            "marker": {
             "colorbar": {
              "outlinewidth": 0,
              "ticks": ""
             }
            },
            "type": "scattergl"
           }
          ],
          "scattermapbox": [
           {
            "marker": {
             "colorbar": {
              "outlinewidth": 0,
              "ticks": ""
             }
            },
            "type": "scattermapbox"
           }
          ],
          "scatterpolar": [
           {
            "marker": {
             "colorbar": {
              "outlinewidth": 0,
              "ticks": ""
             }
            },
            "type": "scatterpolar"
           }
          ],
          "scatterpolargl": [
           {
            "marker": {
             "colorbar": {
              "outlinewidth": 0,
              "ticks": ""
             }
            },
            "type": "scatterpolargl"
           }
          ],
          "scatterternary": [
           {
            "marker": {
             "colorbar": {
              "outlinewidth": 0,
              "ticks": ""
             }
            },
            "type": "scatterternary"
           }
          ],
          "surface": [
           {
            "colorbar": {
             "outlinewidth": 0,
             "ticks": ""
            },
            "colorscale": [
             [
              0,
              "#0d0887"
             ],
             [
              0.1111111111111111,
              "#46039f"
             ],
             [
              0.2222222222222222,
              "#7201a8"
             ],
             [
              0.3333333333333333,
              "#9c179e"
             ],
             [
              0.4444444444444444,
              "#bd3786"
             ],
             [
              0.5555555555555556,
              "#d8576b"
             ],
             [
              0.6666666666666666,
              "#ed7953"
             ],
             [
              0.7777777777777778,
              "#fb9f3a"
             ],
             [
              0.8888888888888888,
              "#fdca26"
             ],
             [
              1,
              "#f0f921"
             ]
            ],
            "type": "surface"
           }
          ],
          "table": [
           {
            "cells": {
             "fill": {
              "color": "#EBF0F8"
             },
             "line": {
              "color": "white"
             }
            },
            "header": {
             "fill": {
              "color": "#C8D4E3"
             },
             "line": {
              "color": "white"
             }
            },
            "type": "table"
           }
          ]
         },
         "layout": {
          "annotationdefaults": {
           "arrowcolor": "#2a3f5f",
           "arrowhead": 0,
           "arrowwidth": 1
          },
          "autotypenumbers": "strict",
          "coloraxis": {
           "colorbar": {
            "outlinewidth": 0,
            "ticks": ""
           }
          },
          "colorscale": {
           "diverging": [
            [
             0,
             "#8e0152"
            ],
            [
             0.1,
             "#c51b7d"
            ],
            [
             0.2,
             "#de77ae"
            ],
            [
             0.3,
             "#f1b6da"
            ],
            [
             0.4,
             "#fde0ef"
            ],
            [
             0.5,
             "#f7f7f7"
            ],
            [
             0.6,
             "#e6f5d0"
            ],
            [
             0.7,
             "#b8e186"
            ],
            [
             0.8,
             "#7fbc41"
            ],
            [
             0.9,
             "#4d9221"
            ],
            [
             1,
             "#276419"
            ]
           ],
           "sequential": [
            [
             0,
             "#0d0887"
            ],
            [
             0.1111111111111111,
             "#46039f"
            ],
            [
             0.2222222222222222,
             "#7201a8"
            ],
            [
             0.3333333333333333,
             "#9c179e"
            ],
            [
             0.4444444444444444,
             "#bd3786"
            ],
            [
             0.5555555555555556,
             "#d8576b"
            ],
            [
             0.6666666666666666,
             "#ed7953"
            ],
            [
             0.7777777777777778,
             "#fb9f3a"
            ],
            [
             0.8888888888888888,
             "#fdca26"
            ],
            [
             1,
             "#f0f921"
            ]
           ],
           "sequentialminus": [
            [
             0,
             "#0d0887"
            ],
            [
             0.1111111111111111,
             "#46039f"
            ],
            [
             0.2222222222222222,
             "#7201a8"
            ],
            [
             0.3333333333333333,
             "#9c179e"
            ],
            [
             0.4444444444444444,
             "#bd3786"
            ],
            [
             0.5555555555555556,
             "#d8576b"
            ],
            [
             0.6666666666666666,
             "#ed7953"
            ],
            [
             0.7777777777777778,
             "#fb9f3a"
            ],
            [
             0.8888888888888888,
             "#fdca26"
            ],
            [
             1,
             "#f0f921"
            ]
           ]
          },
          "colorway": [
           "#636efa",
           "#EF553B",
           "#00cc96",
           "#ab63fa",
           "#FFA15A",
           "#19d3f3",
           "#FF6692",
           "#B6E880",
           "#FF97FF",
           "#FECB52"
          ],
          "font": {
           "color": "#2a3f5f"
          },
          "geo": {
           "bgcolor": "white",
           "lakecolor": "white",
           "landcolor": "#E5ECF6",
           "showlakes": true,
           "showland": true,
           "subunitcolor": "white"
          },
          "hoverlabel": {
           "align": "left"
          },
          "hovermode": "closest",
          "mapbox": {
           "style": "light"
          },
          "paper_bgcolor": "white",
          "plot_bgcolor": "#E5ECF6",
          "polar": {
           "angularaxis": {
            "gridcolor": "white",
            "linecolor": "white",
            "ticks": ""
           },
           "bgcolor": "#E5ECF6",
           "radialaxis": {
            "gridcolor": "white",
            "linecolor": "white",
            "ticks": ""
           }
          },
          "scene": {
           "xaxis": {
            "backgroundcolor": "#E5ECF6",
            "gridcolor": "white",
            "gridwidth": 2,
            "linecolor": "white",
            "showbackground": true,
            "ticks": "",
            "zerolinecolor": "white"
           },
           "yaxis": {
            "backgroundcolor": "#E5ECF6",
            "gridcolor": "white",
            "gridwidth": 2,
            "linecolor": "white",
            "showbackground": true,
            "ticks": "",
            "zerolinecolor": "white"
           },
           "zaxis": {
            "backgroundcolor": "#E5ECF6",
            "gridcolor": "white",
            "gridwidth": 2,
            "linecolor": "white",
            "showbackground": true,
            "ticks": "",
            "zerolinecolor": "white"
           }
          },
          "shapedefaults": {
           "line": {
            "color": "#2a3f5f"
           }
          },
          "ternary": {
           "aaxis": {
            "gridcolor": "white",
            "linecolor": "white",
            "ticks": ""
           },
           "baxis": {
            "gridcolor": "white",
            "linecolor": "white",
            "ticks": ""
           },
           "bgcolor": "#E5ECF6",
           "caxis": {
            "gridcolor": "white",
            "linecolor": "white",
            "ticks": ""
           }
          },
          "title": {
           "x": 0.05
          },
          "xaxis": {
           "automargin": true,
           "gridcolor": "white",
           "linecolor": "white",
           "ticks": "",
           "title": {
            "standoff": 15
           },
           "zerolinecolor": "white",
           "zerolinewidth": 2
          },
          "yaxis": {
           "automargin": true,
           "gridcolor": "white",
           "linecolor": "white",
           "ticks": "",
           "title": {
            "standoff": 15
           },
           "zerolinecolor": "white",
           "zerolinewidth": 2
          }
         }
        },
        "xaxis": {
         "anchor": "y",
         "domain": [
          0,
          1
         ],
         "title": {
          "text": "Days after first purchase"
         }
        },
        "yaxis": {
         "anchor": "x",
         "domain": [
          0,
          1
         ],
         "title": {
          "text": "Retention (%)"
         }
        }
       }
      },
      "text/html": [
       "<div>                            <div id=\"c14d4109-ae0f-42c5-890b-fa3940e30193\" class=\"plotly-graph-div\" style=\"height:525px; width:100%;\"></div>            <script type=\"text/javascript\">                require([\"plotly\"], function(Plotly) {                    window.PLOTLYENV=window.PLOTLYENV || {};                                    if (document.getElementById(\"c14d4109-ae0f-42c5-890b-fa3940e30193\")) {                    Plotly.newPlot(                        \"c14d4109-ae0f-42c5-890b-fa3940e30193\",                        [{\"hovertemplate\":\"variable=client_id<br>time_diff=%{x}<br>value=%{y}<extra></extra>\",\"legendgroup\":\"client_id\",\"line\":{\"color\":\"#636efa\",\"dash\":\"solid\"},\"marker\":{\"symbol\":\"circle\"},\"mode\":\"lines\",\"name\":\"client_id\",\"orientation\":\"v\",\"showlegend\":true,\"x\":[3,4,5,6,7,8,9,10,11,12,13,14,15,16,17,18,19,20,21,22,23,24,25,26,27,28,29,30,31,32,33,34,35,36,37,38,39,40,41,42,43,44,45,46,47,48,49,50,51,52,53,54,55,56,57,58,59,60,61,62,63,64,65,66,67,68,69,70,71,72,73,74,75,76,77,78,79,80,81,82,83,85,86,87,88,89],\"xaxis\":\"x\",\"y\":[0.7170868347338936,0.8179271708683473,0.7507002801120448,0.6610644257703081,0.7619047619047619,0.649859943977591,0.6946778711484594,0.6386554621848739,0.5042016806722689,0.649859943977591,0.6946778711484594,0.7394957983193278,0.773109243697479,0.6386554621848739,0.6386554621848739,0.6162464985994398,0.6386554621848739,0.6946778711484594,0.7058823529411765,0.5378151260504201,0.7619047619047619,0.6834733893557423,0.6274509803921569,0.7619047619047619,0.7282913165266106,0.515406162464986,0.6610644257703081,0.6834733893557423,0.11204481792717086,0.04481792717086835,0.03361344537815126,0.05602240896358543,0.06722689075630252,0.0784313725490196,0.022408963585434174,0.06722689075630252,0.05602240896358543,0.04481792717086835,0.03361344537815126,0.03361344537815126,0.022408963585434174,0.04481792717086835,0.0784313725490196,0.12324929971988796,0.11204481792717086,0.06722689075630252,0.11204481792717086,0.11204481792717086,0.10084033613445378,0.05602240896358543,0.06722689075630252,0.0896358543417367,0.10084033613445378,0.0896358543417367,0.0896358543417367,0.11204481792717086,0.10084033613445378,0.06722689075630252,0.11204481792717086,0.0784313725490196,0.12324929971988796,0.0896358543417367,0.04481792717086835,0.04481792717086835,0.03361344537815126,0.0784313725490196,0.06722689075630252,0.04481792717086835,0.0896358543417367,0.04481792717086835,0.0896358543417367,0.04481792717086835,0.04481792717086835,0.03361344537815126,0.03361344537815126,0.022408963585434174,0.022408963585434174,0.011204481792717087,0.022408963585434174,0.011204481792717087,0.022408963585434174,0.011204481792717087,0.011204481792717087,0.022408963585434174,0.011204481792717087,0.011204481792717087],\"yaxis\":\"y\",\"type\":\"scatter\"}],                        {\"template\":{\"data\":{\"histogram2dcontour\":[{\"type\":\"histogram2dcontour\",\"colorbar\":{\"outlinewidth\":0,\"ticks\":\"\"},\"colorscale\":[[0.0,\"#0d0887\"],[0.1111111111111111,\"#46039f\"],[0.2222222222222222,\"#7201a8\"],[0.3333333333333333,\"#9c179e\"],[0.4444444444444444,\"#bd3786\"],[0.5555555555555556,\"#d8576b\"],[0.6666666666666666,\"#ed7953\"],[0.7777777777777778,\"#fb9f3a\"],[0.8888888888888888,\"#fdca26\"],[1.0,\"#f0f921\"]]}],\"choropleth\":[{\"type\":\"choropleth\",\"colorbar\":{\"outlinewidth\":0,\"ticks\":\"\"}}],\"histogram2d\":[{\"type\":\"histogram2d\",\"colorbar\":{\"outlinewidth\":0,\"ticks\":\"\"},\"colorscale\":[[0.0,\"#0d0887\"],[0.1111111111111111,\"#46039f\"],[0.2222222222222222,\"#7201a8\"],[0.3333333333333333,\"#9c179e\"],[0.4444444444444444,\"#bd3786\"],[0.5555555555555556,\"#d8576b\"],[0.6666666666666666,\"#ed7953\"],[0.7777777777777778,\"#fb9f3a\"],[0.8888888888888888,\"#fdca26\"],[1.0,\"#f0f921\"]]}],\"heatmap\":[{\"type\":\"heatmap\",\"colorbar\":{\"outlinewidth\":0,\"ticks\":\"\"},\"colorscale\":[[0.0,\"#0d0887\"],[0.1111111111111111,\"#46039f\"],[0.2222222222222222,\"#7201a8\"],[0.3333333333333333,\"#9c179e\"],[0.4444444444444444,\"#bd3786\"],[0.5555555555555556,\"#d8576b\"],[0.6666666666666666,\"#ed7953\"],[0.7777777777777778,\"#fb9f3a\"],[0.8888888888888888,\"#fdca26\"],[1.0,\"#f0f921\"]]}],\"heatmapgl\":[{\"type\":\"heatmapgl\",\"colorbar\":{\"outlinewidth\":0,\"ticks\":\"\"},\"colorscale\":[[0.0,\"#0d0887\"],[0.1111111111111111,\"#46039f\"],[0.2222222222222222,\"#7201a8\"],[0.3333333333333333,\"#9c179e\"],[0.4444444444444444,\"#bd3786\"],[0.5555555555555556,\"#d8576b\"],[0.6666666666666666,\"#ed7953\"],[0.7777777777777778,\"#fb9f3a\"],[0.8888888888888888,\"#fdca26\"],[1.0,\"#f0f921\"]]}],\"contourcarpet\":[{\"type\":\"contourcarpet\",\"colorbar\":{\"outlinewidth\":0,\"ticks\":\"\"}}],\"contour\":[{\"type\":\"contour\",\"colorbar\":{\"outlinewidth\":0,\"ticks\":\"\"},\"colorscale\":[[0.0,\"#0d0887\"],[0.1111111111111111,\"#46039f\"],[0.2222222222222222,\"#7201a8\"],[0.3333333333333333,\"#9c179e\"],[0.4444444444444444,\"#bd3786\"],[0.5555555555555556,\"#d8576b\"],[0.6666666666666666,\"#ed7953\"],[0.7777777777777778,\"#fb9f3a\"],[0.8888888888888888,\"#fdca26\"],[1.0,\"#f0f921\"]]}],\"surface\":[{\"type\":\"surface\",\"colorbar\":{\"outlinewidth\":0,\"ticks\":\"\"},\"colorscale\":[[0.0,\"#0d0887\"],[0.1111111111111111,\"#46039f\"],[0.2222222222222222,\"#7201a8\"],[0.3333333333333333,\"#9c179e\"],[0.4444444444444444,\"#bd3786\"],[0.5555555555555556,\"#d8576b\"],[0.6666666666666666,\"#ed7953\"],[0.7777777777777778,\"#fb9f3a\"],[0.8888888888888888,\"#fdca26\"],[1.0,\"#f0f921\"]]}],\"mesh3d\":[{\"type\":\"mesh3d\",\"colorbar\":{\"outlinewidth\":0,\"ticks\":\"\"}}],\"scatter\":[{\"fillpattern\":{\"fillmode\":\"overlay\",\"size\":10,\"solidity\":0.2},\"type\":\"scatter\"}],\"parcoords\":[{\"type\":\"parcoords\",\"line\":{\"colorbar\":{\"outlinewidth\":0,\"ticks\":\"\"}}}],\"scatterpolargl\":[{\"type\":\"scatterpolargl\",\"marker\":{\"colorbar\":{\"outlinewidth\":0,\"ticks\":\"\"}}}],\"bar\":[{\"error_x\":{\"color\":\"#2a3f5f\"},\"error_y\":{\"color\":\"#2a3f5f\"},\"marker\":{\"line\":{\"color\":\"#E5ECF6\",\"width\":0.5},\"pattern\":{\"fillmode\":\"overlay\",\"size\":10,\"solidity\":0.2}},\"type\":\"bar\"}],\"scattergeo\":[{\"type\":\"scattergeo\",\"marker\":{\"colorbar\":{\"outlinewidth\":0,\"ticks\":\"\"}}}],\"scatterpolar\":[{\"type\":\"scatterpolar\",\"marker\":{\"colorbar\":{\"outlinewidth\":0,\"ticks\":\"\"}}}],\"histogram\":[{\"marker\":{\"pattern\":{\"fillmode\":\"overlay\",\"size\":10,\"solidity\":0.2}},\"type\":\"histogram\"}],\"scattergl\":[{\"type\":\"scattergl\",\"marker\":{\"colorbar\":{\"outlinewidth\":0,\"ticks\":\"\"}}}],\"scatter3d\":[{\"type\":\"scatter3d\",\"line\":{\"colorbar\":{\"outlinewidth\":0,\"ticks\":\"\"}},\"marker\":{\"colorbar\":{\"outlinewidth\":0,\"ticks\":\"\"}}}],\"scattermapbox\":[{\"type\":\"scattermapbox\",\"marker\":{\"colorbar\":{\"outlinewidth\":0,\"ticks\":\"\"}}}],\"scatterternary\":[{\"type\":\"scatterternary\",\"marker\":{\"colorbar\":{\"outlinewidth\":0,\"ticks\":\"\"}}}],\"scattercarpet\":[{\"type\":\"scattercarpet\",\"marker\":{\"colorbar\":{\"outlinewidth\":0,\"ticks\":\"\"}}}],\"carpet\":[{\"aaxis\":{\"endlinecolor\":\"#2a3f5f\",\"gridcolor\":\"white\",\"linecolor\":\"white\",\"minorgridcolor\":\"white\",\"startlinecolor\":\"#2a3f5f\"},\"baxis\":{\"endlinecolor\":\"#2a3f5f\",\"gridcolor\":\"white\",\"linecolor\":\"white\",\"minorgridcolor\":\"white\",\"startlinecolor\":\"#2a3f5f\"},\"type\":\"carpet\"}],\"table\":[{\"cells\":{\"fill\":{\"color\":\"#EBF0F8\"},\"line\":{\"color\":\"white\"}},\"header\":{\"fill\":{\"color\":\"#C8D4E3\"},\"line\":{\"color\":\"white\"}},\"type\":\"table\"}],\"barpolar\":[{\"marker\":{\"line\":{\"color\":\"#E5ECF6\",\"width\":0.5},\"pattern\":{\"fillmode\":\"overlay\",\"size\":10,\"solidity\":0.2}},\"type\":\"barpolar\"}],\"pie\":[{\"automargin\":true,\"type\":\"pie\"}]},\"layout\":{\"autotypenumbers\":\"strict\",\"colorway\":[\"#636efa\",\"#EF553B\",\"#00cc96\",\"#ab63fa\",\"#FFA15A\",\"#19d3f3\",\"#FF6692\",\"#B6E880\",\"#FF97FF\",\"#FECB52\"],\"font\":{\"color\":\"#2a3f5f\"},\"hovermode\":\"closest\",\"hoverlabel\":{\"align\":\"left\"},\"paper_bgcolor\":\"white\",\"plot_bgcolor\":\"#E5ECF6\",\"polar\":{\"bgcolor\":\"#E5ECF6\",\"angularaxis\":{\"gridcolor\":\"white\",\"linecolor\":\"white\",\"ticks\":\"\"},\"radialaxis\":{\"gridcolor\":\"white\",\"linecolor\":\"white\",\"ticks\":\"\"}},\"ternary\":{\"bgcolor\":\"#E5ECF6\",\"aaxis\":{\"gridcolor\":\"white\",\"linecolor\":\"white\",\"ticks\":\"\"},\"baxis\":{\"gridcolor\":\"white\",\"linecolor\":\"white\",\"ticks\":\"\"},\"caxis\":{\"gridcolor\":\"white\",\"linecolor\":\"white\",\"ticks\":\"\"}},\"coloraxis\":{\"colorbar\":{\"outlinewidth\":0,\"ticks\":\"\"}},\"colorscale\":{\"sequential\":[[0.0,\"#0d0887\"],[0.1111111111111111,\"#46039f\"],[0.2222222222222222,\"#7201a8\"],[0.3333333333333333,\"#9c179e\"],[0.4444444444444444,\"#bd3786\"],[0.5555555555555556,\"#d8576b\"],[0.6666666666666666,\"#ed7953\"],[0.7777777777777778,\"#fb9f3a\"],[0.8888888888888888,\"#fdca26\"],[1.0,\"#f0f921\"]],\"sequentialminus\":[[0.0,\"#0d0887\"],[0.1111111111111111,\"#46039f\"],[0.2222222222222222,\"#7201a8\"],[0.3333333333333333,\"#9c179e\"],[0.4444444444444444,\"#bd3786\"],[0.5555555555555556,\"#d8576b\"],[0.6666666666666666,\"#ed7953\"],[0.7777777777777778,\"#fb9f3a\"],[0.8888888888888888,\"#fdca26\"],[1.0,\"#f0f921\"]],\"diverging\":[[0,\"#8e0152\"],[0.1,\"#c51b7d\"],[0.2,\"#de77ae\"],[0.3,\"#f1b6da\"],[0.4,\"#fde0ef\"],[0.5,\"#f7f7f7\"],[0.6,\"#e6f5d0\"],[0.7,\"#b8e186\"],[0.8,\"#7fbc41\"],[0.9,\"#4d9221\"],[1,\"#276419\"]]},\"xaxis\":{\"gridcolor\":\"white\",\"linecolor\":\"white\",\"ticks\":\"\",\"title\":{\"standoff\":15},\"zerolinecolor\":\"white\",\"automargin\":true,\"zerolinewidth\":2},\"yaxis\":{\"gridcolor\":\"white\",\"linecolor\":\"white\",\"ticks\":\"\",\"title\":{\"standoff\":15},\"zerolinecolor\":\"white\",\"automargin\":true,\"zerolinewidth\":2},\"scene\":{\"xaxis\":{\"backgroundcolor\":\"#E5ECF6\",\"gridcolor\":\"white\",\"linecolor\":\"white\",\"showbackground\":true,\"ticks\":\"\",\"zerolinecolor\":\"white\",\"gridwidth\":2},\"yaxis\":{\"backgroundcolor\":\"#E5ECF6\",\"gridcolor\":\"white\",\"linecolor\":\"white\",\"showbackground\":true,\"ticks\":\"\",\"zerolinecolor\":\"white\",\"gridwidth\":2},\"zaxis\":{\"backgroundcolor\":\"#E5ECF6\",\"gridcolor\":\"white\",\"linecolor\":\"white\",\"showbackground\":true,\"ticks\":\"\",\"zerolinecolor\":\"white\",\"gridwidth\":2}},\"shapedefaults\":{\"line\":{\"color\":\"#2a3f5f\"}},\"annotationdefaults\":{\"arrowcolor\":\"#2a3f5f\",\"arrowhead\":0,\"arrowwidth\":1},\"geo\":{\"bgcolor\":\"white\",\"landcolor\":\"#E5ECF6\",\"subunitcolor\":\"white\",\"showland\":true,\"showlakes\":true,\"lakecolor\":\"white\"},\"title\":{\"x\":0.05},\"mapbox\":{\"style\":\"light\"}}},\"xaxis\":{\"anchor\":\"y\",\"domain\":[0.0,1.0],\"title\":{\"text\":\"Days after first purchase\"}},\"yaxis\":{\"anchor\":\"x\",\"domain\":[0.0,1.0],\"title\":{\"text\":\"Retention (%)\"}},\"legend\":{\"title\":{\"text\":\"variable\"},\"tracegroupgap\":0},\"margin\":{\"t\":60}},                        {\"responsive\": true}                    ).then(function(){\n",
       "                            \n",
       "var gd = document.getElementById('c14d4109-ae0f-42c5-890b-fa3940e30193');\n",
       "var x = new MutationObserver(function (mutations, observer) {{\n",
       "        var display = window.getComputedStyle(gd).display;\n",
       "        if (!display || display === 'none') {{\n",
       "            console.log([gd, 'removed!']);\n",
       "            Plotly.purge(gd);\n",
       "            observer.disconnect();\n",
       "        }}\n",
       "}});\n",
       "\n",
       "// Listen for the removal of the full notebook cells\n",
       "var notebookContainer = gd.closest('#notebook-container');\n",
       "if (notebookContainer) {{\n",
       "    x.observe(notebookContainer, {childList: true});\n",
       "}}\n",
       "\n",
       "// Listen for the clearing of the current output cell\n",
       "var outputEl = gd.closest('.output');\n",
       "if (outputEl) {{\n",
       "    x.observe(outputEl, {childList: true});\n",
       "}}\n",
       "\n",
       "                        })                };                });            </script>        </div>"
      ]
     },
     "metadata": {},
     "output_type": "display_data"
    }
   ],
   "source": [
    "Y=(data[[\"time_diff\",\"client_id\"]].groupby(\"time_diff\").nunique()/len(data[\"client_id\"].unique())*100).iloc[1:]\n",
    "fig = pl.line(Y)\n",
    "fig.update_layout(\n",
    "    xaxis_title=\"Days after first purchase\", yaxis_title=\"Retention (%)\"\n",
    ")\n",
    "fig.show()"
   ]
  },
  {
   "cell_type": "markdown",
   "id": "a35bc9ef",
   "metadata": {},
   "source": [
    "Что мы видим? Во-первых, наблюдается существенная просадка через 30 дней после первой покупки, а также примерно через 11 дней. Если мы, скажем, подразумеваем, что речь идет про \"Руки\", то можно сказать, что такая ситуация согласуется со здравым смыслом по следующим соображениям: \n",
    "<ol>\n",
    "  <li>Большая часть ремонтных работ заканчивается уже на следующий день и в течение года может и вовсе не потребоваться дополнительных работ, а ко всему прочему, даже если работа занимает больше времени, чаще всего заказ требует только одного специалиста: только сантехника или только электрика. (Из собственного опыта: специалист из \"рук\" собирал мне кухонный гарнитру примерно в течение месяца, но транзакция то была одна!) - это обуславливает, что retention сразу падает до уровня менее 1%. Сюда можно отнести многие работы по обслуживанию сантехники, сборку одиночного элемента мебели, уставновку окна.</li>\n",
    "   <li>Существует заметная, но не такая уж и существенная категория работ, укладывающаяся примерно в полторы недели: при работе над отдельной комнатой вполне может потребоваться несколько специалистов (и несколько транзакций): например, клиенту потребуется отдельно в сжатые сроки оплатить сборщика мебели, поклейщика обоев и электрика.</li>\n",
    "   <li>Наконец, крайне редко в быту можно столкнуться с такой ремонтной работой, которая потребует работ более чем на месяц: это может быть, например, большой ремонт квартиры в целом. Само собой, в таком случаем мы столкнемся с несколькими подряд идущими транзакциями на разных специалистов, причем не исключено, что по несколько раз. Такие работы длительны, но редко могут затянуться больше чем на месяц.</li>\n",
    "</ol>"
   ]
  },
  {
   "cell_type": "markdown",
   "id": "ebd26b71",
   "metadata": {},
   "source": [
    "Вооружившись этой информацией, проведем когортный анализ, где под когортой будем понимать клиентов, сделавших заказ в определенном месяце."
   ]
  },
  {
   "cell_type": "code",
   "execution_count": 82,
   "id": "000e91f9",
   "metadata": {},
   "outputs": [
    {
     "name": "stderr",
     "output_type": "stream",
     "text": [
      "C:\\Users\\1\\AppData\\Local\\Temp\\ipykernel_13360\\2342964297.py:3: SettingWithCopyWarning:\n",
      "\n",
      "\n",
      "A value is trying to be set on a copy of a slice from a DataFrame\n",
      "\n",
      "See the caveats in the documentation: https://pandas.pydata.org/pandas-docs/stable/user_guide/indexing.html#returning-a-view-versus-a-copy\n",
      "\n"
     ]
    }
   ],
   "source": [
    "data['first_day'] = 0\n",
    "for i in range(len(data)):\n",
    "    data['first_day'].iloc[i] = dct[data[\"client_id\"].iloc[i]]"
   ]
  },
  {
   "cell_type": "code",
   "execution_count": 94,
   "id": "812acbf1",
   "metadata": {},
   "outputs": [],
   "source": [
    "data['first_day'] = pd.to_datetime(data['first_day'], format='%m/%d/%Y %H:%M')\n",
    "data['cohort'] = data['first_day'].dt.to_period('M')"
   ]
  },
  {
   "cell_type": "code",
   "execution_count": 97,
   "id": "846fd7bc",
   "metadata": {},
   "outputs": [],
   "source": [
    "data_cohort = data.groupby(['cohort', 'time_diff']).agg(n_customers=('client_id', 'nunique')).reset_index(drop=False)"
   ]
  },
  {
   "cell_type": "code",
   "execution_count": 99,
   "id": "57675761",
   "metadata": {},
   "outputs": [],
   "source": [
    "pivot = data_cohort.pivot_table(index='cohort', columns='time_diff', values='n_customers')"
   ]
  },
  {
   "cell_type": "code",
   "execution_count": 127,
   "id": "2f9f14d2",
   "metadata": {},
   "outputs": [],
   "source": [
    "cohort_size = pivot.iloc[:, 0]\n",
    "retention_matrix = pivot.divide(cohort_size, axis=0).iloc[:, 1:]"
   ]
  },
  {
   "cell_type": "code",
   "execution_count": 160,
   "id": "efd0b78c",
   "metadata": {},
   "outputs": [
    {
     "data": {
      "application/vnd.plotly.v1+json": {
       "config": {
        "plotlyServerURL": "https://plot.ly"
       },
       "data": [
        {
         "coloraxis": "coloraxis",
         "hovertemplate": "Days after first putchase: %{x}<br>Cohort (month): %{y}<br>Retention (%): %{z}<extra></extra>",
         "name": "0",
         "type": "heatmap",
         "xaxis": "x",
         "y": [
          "January",
          "February",
          " March",
          "April",
          "May",
          "June",
          "July",
          "August",
          "September",
          "October"
         ],
         "yaxis": "y",
         "z": [
          [
           0.008359456635318705,
           0.012539184952978056,
           0.01567398119122257,
           0.009404388714733543,
           0.014629049111807733,
           0.013584117032392894,
           0.0010449320794148381,
           0.009404388714733543,
           0.003134796238244514,
           0.0041797283176593526,
           0.0073145245559038665,
           0.006269592476489028,
           0.013584117032392894,
           0.008359456635318705,
           0.008359456635318705,
           0.01044932079414838,
           0.01044932079414838,
           0.014629049111807733,
           0.008359456635318705,
           0.0073145245559038665,
           0.014629049111807733,
           0.017763845350052248,
           0.009404388714733543,
           0.01044932079414838,
           0.014629049111807733,
           0.0041797283176593526,
           0.009404388714733543,
           0.006269592476489028,
           0.0041797283176593526,
           0.0010449320794148381,
           0,
           0,
           0.0020898641588296763,
           0.0020898641588296763,
           0,
           0.0020898641588296763,
           0,
           0.0020898641588296763,
           0.0010449320794148381,
           0.003134796238244514,
           0.0010449320794148381,
           0,
           0.0010449320794148381,
           0.0020898641588296763,
           0.0020898641588296763,
           0,
           0.0020898641588296763,
           0.0020898641588296763,
           0.0010449320794148381,
           0,
           0.003134796238244514,
           0.003134796238244514,
           0.0010449320794148381,
           0.0020898641588296763,
           0.0020898641588296763,
           0.0020898641588296763,
           0.0041797283176593526,
           0,
           0,
           0.0010449320794148381,
           0.0010449320794148381,
           0,
           0,
           0,
           0,
           0.0020898641588296763,
           0,
           0.0020898641588296763,
           0,
           0,
           0.0020898641588296763,
           0,
           0.0020898641588296763,
           0.0010449320794148381,
           0.0010449320794148381,
           0.0010449320794148381,
           0.0020898641588296763,
           0,
           0,
           0.0010449320794148381,
           0.0020898641588296763,
           0,
           0,
           0.0010449320794148381,
           0,
           0
          ],
          [
           0.011325028312570781,
           0.013590033975084938,
           0.011325028312570781,
           0.014722536806342015,
           0.009060022650056626,
           0.006795016987542469,
           0.010192525481313703,
           0.011325028312570781,
           0.0056625141562853904,
           0.010192525481313703,
           0.007927519818799546,
           0.009060022650056626,
           0.010192525481313703,
           0.009060022650056626,
           0.007927519818799546,
           0.006795016987542469,
           0.013590033975084938,
           0.010192525481313703,
           0.010192525481313703,
           0.004530011325028313,
           0.007927519818799546,
           0.010192525481313703,
           0.0056625141562853904,
           0.013590033975084938,
           0.01245753114382786,
           0.007927519818799546,
           0.007927519818799546,
           0.009060022650056626,
           0.004530011325028313,
           0,
           0,
           0.0011325028312570782,
           0.0011325028312570782,
           0.0022650056625141564,
           0,
           0,
           0.0011325028312570782,
           0,
           0,
           0,
           0.0011325028312570782,
           0.0011325028312570782,
           0.0011325028312570782,
           0.004530011325028313,
           0,
           0.0011325028312570782,
           0.0011325028312570782,
           0.0011325028312570782,
           0.0011325028312570782,
           0,
           0.0011325028312570782,
           0.0011325028312570782,
           0.0011325028312570782,
           0.0022650056625141564,
           0,
           0,
           0.0022650056625141564,
           0.0033975084937712344,
           0.0011325028312570782,
           0.0011325028312570782,
           0.0011325028312570782,
           0.004530011325028313,
           0,
           0.0011325028312570782,
           0.0011325028312570782,
           0.0011325028312570782,
           0.0011325028312570782,
           0,
           0,
           0.0011325028312570782,
           0.0011325028312570782,
           0.0022650056625141564,
           0,
           0,
           0,
           0,
           0,
           0,
           0,
           0,
           0,
           0,
           0,
           0,
           0,
           0
          ],
          [
           0.016042780748663103,
           0.006417112299465241,
           0.009625668449197862,
           0.0074866310160427805,
           0.0106951871657754,
           0.009625668449197862,
           0.0106951871657754,
           0.008556149732620321,
           0.013903743315508022,
           0.012834224598930482,
           0.008556149732620321,
           0.012834224598930482,
           0.0042780748663101605,
           0.008556149732620321,
           0.012834224598930482,
           0.008556149732620321,
           0.0074866310160427805,
           0.0074866310160427805,
           0.0106951871657754,
           0.006417112299465241,
           0.0106951871657754,
           0.006417112299465241,
           0.0106951871657754,
           0.012834224598930482,
           0.0074866310160427805,
           0.0042780748663101605,
           0.012834224598930482,
           0.008556149732620321,
           0.0010695187165775401,
           0.0010695187165775401,
           0.0021390374331550803,
           0.0021390374331550803,
           0.0021390374331550803,
           0,
           0.0021390374331550803,
           0,
           0.0010695187165775401,
           0,
           0,
           0,
           0,
           0.0010695187165775401,
           0.0010695187165775401,
           0.0010695187165775401,
           0.0021390374331550803,
           0.0021390374331550803,
           0.0010695187165775401,
           0.0021390374331550803,
           0.0010695187165775401,
           0.0010695187165775401,
           0.0010695187165775401,
           0.0021390374331550803,
           0.0042780748663101605,
           0.0010695187165775401,
           0.0021390374331550803,
           0.0032085561497326204,
           0,
           0,
           0.0032085561497326204,
           0.0021390374331550803,
           0.0021390374331550803,
           0.0010695187165775401,
           0.0021390374331550803,
           0,
           0,
           0.0021390374331550803,
           0,
           0.0010695187165775401,
           0.0042780748663101605,
           0,
           0.0010695187165775401,
           0,
           0.0010695187165775401,
           0.0010695187165775401,
           0.0010695187165775401,
           0,
           0,
           0,
           0.0010695187165775401,
           0,
           0,
           0,
           0,
           0.0010695187165775401,
           0,
           0.0010695187165775401
          ],
          [
           0.006659267480577136,
           0.006659267480577136,
           0.006659267480577136,
           0.00776914539400666,
           0.01220865704772475,
           0.00776914539400666,
           0.004439511653718091,
           0.005549389567147614,
           0.00776914539400666,
           0.004439511653718091,
           0.008879023307436182,
           0.00776914539400666,
           0.009988901220865706,
           0.005549389567147614,
           0.006659267480577136,
           0.004439511653718091,
           0.00776914539400666,
           0.006659267480577136,
           0.006659267480577136,
           0.008879023307436182,
           0.008879023307436182,
           0.006659267480577136,
           0.009988901220865706,
           0.005549389567147614,
           0.01220865704772475,
           0.006659267480577136,
           0.006659267480577136,
           0.009988901220865706,
           0.0011098779134295228,
           0,
           0,
           0.0011098779134295228,
           0,
           0.0011098779134295228,
           0,
           0.0022197558268590455,
           0.0022197558268590455,
           0,
           0.0011098779134295228,
           0,
           0,
           0,
           0,
           0,
           0,
           0,
           0.003329633740288568,
           0.003329633740288568,
           0.004439511653718091,
           0.0022197558268590455,
           0,
           0.0011098779134295228,
           0,
           0.0022197558268590455,
           0,
           0.0022197558268590455,
           0.0022197558268590455,
           0.0011098779134295228,
           0.0022197558268590455,
           0,
           0.005549389567147614,
           0,
           0,
           0.0011098779134295228,
           0.0022197558268590455,
           0,
           0.0022197558268590455,
           0,
           0,
           0.0022197558268590455,
           0,
           0,
           0,
           0,
           0,
           0,
           0,
           0,
           0,
           0,
           0,
           0,
           0.0011098779134295228,
           0,
           0.0011098779134295228,
           0
          ],
          [
           0.002325581395348837,
           0.0069767441860465115,
           0.0069767441860465115,
           0.002325581395348837,
           0.004651162790697674,
           0.0069767441860465115,
           0.011627906976744186,
           0.009302325581395349,
           0.0034883720930232558,
           0.012790697674418604,
           0.004651162790697674,
           0.005813953488372093,
           0.0069767441860465115,
           0.004651162790697674,
           0.0069767441860465115,
           0.009302325581395349,
           0.0069767441860465115,
           0.00813953488372093,
           0.00813953488372093,
           0.00813953488372093,
           0.0034883720930232558,
           0.0034883720930232558,
           0.004651162790697674,
           0.010465116279069767,
           0.009302325581395349,
           0.0069767441860465115,
           0.009302325581395349,
           0.0069767441860465115,
           0,
           0,
           0,
           0,
           0,
           0.0011627906976744186,
           0,
           0,
           0,
           0.0011627906976744186,
           0.0011627906976744186,
           0,
           0,
           0,
           0.0011627906976744186,
           0.002325581395348837,
           0.0011627906976744186,
           0.0011627906976744186,
           0,
           0.002325581395348837,
           0,
           0.002325581395348837,
           0,
           0,
           0,
           0,
           0.0011627906976744186,
           0,
           0,
           0.0011627906976744186,
           0,
           0.0011627906976744186,
           0.0011627906976744186,
           0.002325581395348837,
           0.0011627906976744186,
           0,
           0,
           0,
           0.002325581395348837,
           0,
           0.0034883720930232558,
           0.0011627906976744186,
           0.0011627906976744186,
           0.0011627906976744186,
           0,
           0,
           0,
           0.0011627906976744186,
           0,
           0,
           0,
           0,
           0,
           0,
           0,
           0,
           0,
           0
          ],
          [
           0.010830324909747292,
           0.007220216606498195,
           0.00842358604091456,
           0.006016847172081829,
           0.007220216606498195,
           0.009626955475330927,
           0.0048134777376654635,
           0.0024067388688327317,
           0.006016847172081829,
           0.006016847172081829,
           0.0036101083032490976,
           0.012033694344163659,
           0.007220216606498195,
           0.012033694344163659,
           0.0036101083032490976,
           0.0048134777376654635,
           0.0036101083032490976,
           0.00842358604091456,
           0.00842358604091456,
           0.006016847172081829,
           0.00842358604091456,
           0.00842358604091456,
           0.00842358604091456,
           0.006016847172081829,
           0.006016847172081829,
           0.0036101083032490976,
           0.009626955475330927,
           0.010830324909747292,
           0,
           0,
           0.0012033694344163659,
           0,
           0,
           0,
           0,
           0.0024067388688327317,
           0.0012033694344163659,
           0,
           0,
           0,
           0,
           0.0024067388688327317,
           0.0012033694344163659,
           0.0012033694344163659,
           0.0048134777376654635,
           0,
           0.0012033694344163659,
           0,
           0.0024067388688327317,
           0,
           0,
           0,
           0.0012033694344163659,
           0,
           0.0012033694344163659,
           0.0024067388688327317,
           0.0012033694344163659,
           0,
           0.0012033694344163659,
           0.0024067388688327317,
           0,
           0.0012033694344163659,
           0,
           0.0024067388688327317,
           0,
           0.0012033694344163659,
           0,
           0,
           0,
           0,
           0.0024067388688327317,
           0,
           0,
           0.0012033694344163659,
           0.0012033694344163659,
           0,
           0,
           0,
           0.0012033694344163659,
           0,
           0,
           0,
           0,
           0,
           0,
           0
          ],
          [
           0.005773672055427252,
           0.006928406466512702,
           0.004618937644341801,
           0.008083140877598153,
           0.004618937644341801,
           0.004618937644341801,
           0.003464203233256351,
           0.006928406466512702,
           0.003464203233256351,
           0.004618937644341801,
           0.011547344110854504,
           0.009237875288683603,
           0.006928406466512702,
           0.005773672055427252,
           0.010392609699769052,
           0.006928406466512702,
           0.003464203233256351,
           0.004618937644341801,
           0.009237875288683603,
           0.0011547344110854503,
           0.004618937644341801,
           0.003464203233256351,
           0.005773672055427252,
           0.008083140877598153,
           0.0023094688221709007,
           0.009237875288683603,
           0.004618937644341801,
           0.004618937644341801,
           0,
           0.0011547344110854503,
           0,
           0,
           0,
           0,
           0,
           0,
           0,
           0,
           0,
           0,
           0,
           0,
           0.0011547344110854503,
           0.0011547344110854503,
           0,
           0.0011547344110854503,
           0.0023094688221709007,
           0,
           0,
           0,
           0.0011547344110854503,
           0.0011547344110854503,
           0.0011547344110854503,
           0,
           0.0011547344110854503,
           0.0011547344110854503,
           0,
           0.0011547344110854503,
           0.0023094688221709007,
           0,
           0.0011547344110854503,
           0,
           0,
           0,
           0,
           0,
           0.0011547344110854503,
           0.0011547344110854503,
           0.0011547344110854503,
           0,
           0.0011547344110854503,
           0,
           0.0011547344110854503,
           0,
           0,
           0,
           0,
           0.0011547344110854503,
           0,
           0,
           0,
           0.0011547344110854503,
           0,
           0,
           0,
           0
          ],
          [
           0.0011025358324145535,
           0.008820286659316428,
           0.004410143329658214,
           0.006615214994487321,
           0.005512679162072767,
           0.002205071664829107,
           0.011025358324145534,
           0.004410143329658214,
           0.0011025358324145535,
           0.004410143329658214,
           0.005512679162072767,
           0.0033076074972436605,
           0.007717750826901874,
           0.0033076074972436605,
           0.0033076074972436605,
           0.005512679162072767,
           0.005512679162072767,
           0.0033076074972436605,
           0.002205071664829107,
           0.004410143329658214,
           0.008820286659316428,
           0.007717750826901874,
           0.004410143329658214,
           0.005512679162072767,
           0.004410143329658214,
           0.004410143329658214,
           0.0033076074972436605,
           0.006615214994487321,
           0,
           0,
           0,
           0.0011025358324145535,
           0,
           0.0011025358324145535,
           0,
           0,
           0,
           0,
           0,
           0,
           0,
           0,
           0.0011025358324145535,
           0,
           0,
           0.0011025358324145535,
           0,
           0,
           0,
           0,
           0,
           0,
           0.0011025358324145535,
           0.0011025358324145535,
           0.0011025358324145535,
           0,
           0,
           0,
           0.0011025358324145535,
           0,
           0,
           0,
           0.0011025358324145535,
           0,
           0,
           0.0011025358324145535,
           0,
           0,
           0,
           0,
           0,
           0.0011025358324145535,
           0,
           0,
           0,
           0,
           0,
           0,
           0,
           0,
           0,
           0,
           0,
           0,
           0,
           0
          ],
          [
           0.004618937644341801,
           0.004618937644341801,
           0.0011547344110854503,
           0.0023094688221709007,
           0.003464203233256351,
           0.0023094688221709007,
           0.011547344110854504,
           0.003464203233256351,
           0.003464203233256351,
           0.004618937644341801,
           0.006928406466512702,
           0.005773672055427252,
           0.006928406466512702,
           0.005773672055427252,
           0.0023094688221709007,
           0.003464203233256351,
           0.004618937644341801,
           0.004618937644341801,
           0.005773672055427252,
           0.006928406466512702,
           0.005773672055427252,
           0.003464203233256351,
           0.003464203233256351,
           0.003464203233256351,
           0.0023094688221709007,
           0.004618937644341801,
           0.0023094688221709007,
           0.005773672055427252,
           0,
           0.0011547344110854503,
           0,
           0,
           0.0011547344110854503,
           0,
           0,
           0,
           0,
           0.0011547344110854503,
           0,
           0,
           0,
           0,
           0,
           0,
           0.0011547344110854503,
           0,
           0,
           0,
           0,
           0,
           0,
           0,
           0,
           0,
           0,
           0,
           0,
           0,
           0,
           0,
           0,
           0,
           0,
           0,
           0,
           0,
           0,
           0,
           0,
           0,
           0,
           0,
           0,
           0,
           0,
           0,
           0,
           0,
           0,
           0,
           0,
           0,
           0,
           0,
           0,
           0
          ],
          [
           0.004352557127312296,
           0.007616974972796518,
           0.00544069640914037,
           0.001088139281828074,
           0.003264417845484222,
           0.001088139281828074,
           0.001088139281828074,
           0.002176278563656148,
           0.002176278563656148,
           0.001088139281828074,
           0.004352557127312296,
           0.002176278563656148,
           0.003264417845484222,
           0.001088139281828074,
           0.001088139281828074,
           0.001088139281828074,
           0,
           0.001088139281828074,
           0.001088139281828074,
           0,
           0.002176278563656148,
           0,
           0,
           0,
           0.001088139281828074,
           0,
           0,
           0,
           0,
           0,
           0,
           0,
           0,
           0,
           0,
           0,
           0,
           0,
           0,
           0,
           0,
           0,
           0,
           0,
           0,
           0,
           0,
           0,
           0,
           0,
           0,
           0,
           0,
           0,
           0,
           0,
           0,
           0,
           0,
           0,
           0,
           0,
           0,
           0,
           0,
           0,
           0,
           0,
           0,
           0,
           0,
           0,
           0,
           0,
           0,
           0,
           0,
           0,
           0,
           0,
           0,
           0,
           0,
           0,
           0,
           0
          ]
         ]
        }
       ],
       "layout": {
        "coloraxis": {
         "colorbar": {
          "title": {
           "text": "Retention (%)"
          }
         },
         "colorscale": [
          [
           0,
           "#0d0887"
          ],
          [
           0.1111111111111111,
           "#46039f"
          ],
          [
           0.2222222222222222,
           "#7201a8"
          ],
          [
           0.3333333333333333,
           "#9c179e"
          ],
          [
           0.4444444444444444,
           "#bd3786"
          ],
          [
           0.5555555555555556,
           "#d8576b"
          ],
          [
           0.6666666666666666,
           "#ed7953"
          ],
          [
           0.7777777777777778,
           "#fb9f3a"
          ],
          [
           0.8888888888888888,
           "#fdca26"
          ],
          [
           1,
           "#f0f921"
          ]
         ]
        },
        "margin": {
         "t": 60
        },
        "template": {
         "data": {
          "bar": [
           {
            "error_x": {
             "color": "#2a3f5f"
            },
            "error_y": {
             "color": "#2a3f5f"
            },
            "marker": {
             "line": {
              "color": "#E5ECF6",
              "width": 0.5
             },
             "pattern": {
              "fillmode": "overlay",
              "size": 10,
              "solidity": 0.2
             }
            },
            "type": "bar"
           }
          ],
          "barpolar": [
           {
            "marker": {
             "line": {
              "color": "#E5ECF6",
              "width": 0.5
             },
             "pattern": {
              "fillmode": "overlay",
              "size": 10,
              "solidity": 0.2
             }
            },
            "type": "barpolar"
           }
          ],
          "carpet": [
           {
            "aaxis": {
             "endlinecolor": "#2a3f5f",
             "gridcolor": "white",
             "linecolor": "white",
             "minorgridcolor": "white",
             "startlinecolor": "#2a3f5f"
            },
            "baxis": {
             "endlinecolor": "#2a3f5f",
             "gridcolor": "white",
             "linecolor": "white",
             "minorgridcolor": "white",
             "startlinecolor": "#2a3f5f"
            },
            "type": "carpet"
           }
          ],
          "choropleth": [
           {
            "colorbar": {
             "outlinewidth": 0,
             "ticks": ""
            },
            "type": "choropleth"
           }
          ],
          "contour": [
           {
            "colorbar": {
             "outlinewidth": 0,
             "ticks": ""
            },
            "colorscale": [
             [
              0,
              "#0d0887"
             ],
             [
              0.1111111111111111,
              "#46039f"
             ],
             [
              0.2222222222222222,
              "#7201a8"
             ],
             [
              0.3333333333333333,
              "#9c179e"
             ],
             [
              0.4444444444444444,
              "#bd3786"
             ],
             [
              0.5555555555555556,
              "#d8576b"
             ],
             [
              0.6666666666666666,
              "#ed7953"
             ],
             [
              0.7777777777777778,
              "#fb9f3a"
             ],
             [
              0.8888888888888888,
              "#fdca26"
             ],
             [
              1,
              "#f0f921"
             ]
            ],
            "type": "contour"
           }
          ],
          "contourcarpet": [
           {
            "colorbar": {
             "outlinewidth": 0,
             "ticks": ""
            },
            "type": "contourcarpet"
           }
          ],
          "heatmap": [
           {
            "colorbar": {
             "outlinewidth": 0,
             "ticks": ""
            },
            "colorscale": [
             [
              0,
              "#0d0887"
             ],
             [
              0.1111111111111111,
              "#46039f"
             ],
             [
              0.2222222222222222,
              "#7201a8"
             ],
             [
              0.3333333333333333,
              "#9c179e"
             ],
             [
              0.4444444444444444,
              "#bd3786"
             ],
             [
              0.5555555555555556,
              "#d8576b"
             ],
             [
              0.6666666666666666,
              "#ed7953"
             ],
             [
              0.7777777777777778,
              "#fb9f3a"
             ],
             [
              0.8888888888888888,
              "#fdca26"
             ],
             [
              1,
              "#f0f921"
             ]
            ],
            "type": "heatmap"
           }
          ],
          "heatmapgl": [
           {
            "colorbar": {
             "outlinewidth": 0,
             "ticks": ""
            },
            "colorscale": [
             [
              0,
              "#0d0887"
             ],
             [
              0.1111111111111111,
              "#46039f"
             ],
             [
              0.2222222222222222,
              "#7201a8"
             ],
             [
              0.3333333333333333,
              "#9c179e"
             ],
             [
              0.4444444444444444,
              "#bd3786"
             ],
             [
              0.5555555555555556,
              "#d8576b"
             ],
             [
              0.6666666666666666,
              "#ed7953"
             ],
             [
              0.7777777777777778,
              "#fb9f3a"
             ],
             [
              0.8888888888888888,
              "#fdca26"
             ],
             [
              1,
              "#f0f921"
             ]
            ],
            "type": "heatmapgl"
           }
          ],
          "histogram": [
           {
            "marker": {
             "pattern": {
              "fillmode": "overlay",
              "size": 10,
              "solidity": 0.2
             }
            },
            "type": "histogram"
           }
          ],
          "histogram2d": [
           {
            "colorbar": {
             "outlinewidth": 0,
             "ticks": ""
            },
            "colorscale": [
             [
              0,
              "#0d0887"
             ],
             [
              0.1111111111111111,
              "#46039f"
             ],
             [
              0.2222222222222222,
              "#7201a8"
             ],
             [
              0.3333333333333333,
              "#9c179e"
             ],
             [
              0.4444444444444444,
              "#bd3786"
             ],
             [
              0.5555555555555556,
              "#d8576b"
             ],
             [
              0.6666666666666666,
              "#ed7953"
             ],
             [
              0.7777777777777778,
              "#fb9f3a"
             ],
             [
              0.8888888888888888,
              "#fdca26"
             ],
             [
              1,
              "#f0f921"
             ]
            ],
            "type": "histogram2d"
           }
          ],
          "histogram2dcontour": [
           {
            "colorbar": {
             "outlinewidth": 0,
             "ticks": ""
            },
            "colorscale": [
             [
              0,
              "#0d0887"
             ],
             [
              0.1111111111111111,
              "#46039f"
             ],
             [
              0.2222222222222222,
              "#7201a8"
             ],
             [
              0.3333333333333333,
              "#9c179e"
             ],
             [
              0.4444444444444444,
              "#bd3786"
             ],
             [
              0.5555555555555556,
              "#d8576b"
             ],
             [
              0.6666666666666666,
              "#ed7953"
             ],
             [
              0.7777777777777778,
              "#fb9f3a"
             ],
             [
              0.8888888888888888,
              "#fdca26"
             ],
             [
              1,
              "#f0f921"
             ]
            ],
            "type": "histogram2dcontour"
           }
          ],
          "mesh3d": [
           {
            "colorbar": {
             "outlinewidth": 0,
             "ticks": ""
            },
            "type": "mesh3d"
           }
          ],
          "parcoords": [
           {
            "line": {
             "colorbar": {
              "outlinewidth": 0,
              "ticks": ""
             }
            },
            "type": "parcoords"
           }
          ],
          "pie": [
           {
            "automargin": true,
            "type": "pie"
           }
          ],
          "scatter": [
           {
            "fillpattern": {
             "fillmode": "overlay",
             "size": 10,
             "solidity": 0.2
            },
            "type": "scatter"
           }
          ],
          "scatter3d": [
           {
            "line": {
             "colorbar": {
              "outlinewidth": 0,
              "ticks": ""
             }
            },
            "marker": {
             "colorbar": {
              "outlinewidth": 0,
              "ticks": ""
             }
            },
            "type": "scatter3d"
           }
          ],
          "scattercarpet": [
           {
            "marker": {
             "colorbar": {
              "outlinewidth": 0,
              "ticks": ""
             }
            },
            "type": "scattercarpet"
           }
          ],
          "scattergeo": [
           {
            "marker": {
             "colorbar": {
              "outlinewidth": 0,
              "ticks": ""
             }
            },
            "type": "scattergeo"
           }
          ],
          "scattergl": [
           {
            "marker": {
             "colorbar": {
              "outlinewidth": 0,
              "ticks": ""
             }
            },
            "type": "scattergl"
           }
          ],
          "scattermapbox": [
           {
            "marker": {
             "colorbar": {
              "outlinewidth": 0,
              "ticks": ""
             }
            },
            "type": "scattermapbox"
           }
          ],
          "scatterpolar": [
           {
            "marker": {
             "colorbar": {
              "outlinewidth": 0,
              "ticks": ""
             }
            },
            "type": "scatterpolar"
           }
          ],
          "scatterpolargl": [
           {
            "marker": {
             "colorbar": {
              "outlinewidth": 0,
              "ticks": ""
             }
            },
            "type": "scatterpolargl"
           }
          ],
          "scatterternary": [
           {
            "marker": {
             "colorbar": {
              "outlinewidth": 0,
              "ticks": ""
             }
            },
            "type": "scatterternary"
           }
          ],
          "surface": [
           {
            "colorbar": {
             "outlinewidth": 0,
             "ticks": ""
            },
            "colorscale": [
             [
              0,
              "#0d0887"
             ],
             [
              0.1111111111111111,
              "#46039f"
             ],
             [
              0.2222222222222222,
              "#7201a8"
             ],
             [
              0.3333333333333333,
              "#9c179e"
             ],
             [
              0.4444444444444444,
              "#bd3786"
             ],
             [
              0.5555555555555556,
              "#d8576b"
             ],
             [
              0.6666666666666666,
              "#ed7953"
             ],
             [
              0.7777777777777778,
              "#fb9f3a"
             ],
             [
              0.8888888888888888,
              "#fdca26"
             ],
             [
              1,
              "#f0f921"
             ]
            ],
            "type": "surface"
           }
          ],
          "table": [
           {
            "cells": {
             "fill": {
              "color": "#EBF0F8"
             },
             "line": {
              "color": "white"
             }
            },
            "header": {
             "fill": {
              "color": "#C8D4E3"
             },
             "line": {
              "color": "white"
             }
            },
            "type": "table"
           }
          ]
         },
         "layout": {
          "annotationdefaults": {
           "arrowcolor": "#2a3f5f",
           "arrowhead": 0,
           "arrowwidth": 1
          },
          "autotypenumbers": "strict",
          "coloraxis": {
           "colorbar": {
            "outlinewidth": 0,
            "ticks": ""
           }
          },
          "colorscale": {
           "diverging": [
            [
             0,
             "#8e0152"
            ],
            [
             0.1,
             "#c51b7d"
            ],
            [
             0.2,
             "#de77ae"
            ],
            [
             0.3,
             "#f1b6da"
            ],
            [
             0.4,
             "#fde0ef"
            ],
            [
             0.5,
             "#f7f7f7"
            ],
            [
             0.6,
             "#e6f5d0"
            ],
            [
             0.7,
             "#b8e186"
            ],
            [
             0.8,
             "#7fbc41"
            ],
            [
             0.9,
             "#4d9221"
            ],
            [
             1,
             "#276419"
            ]
           ],
           "sequential": [
            [
             0,
             "#0d0887"
            ],
            [
             0.1111111111111111,
             "#46039f"
            ],
            [
             0.2222222222222222,
             "#7201a8"
            ],
            [
             0.3333333333333333,
             "#9c179e"
            ],
            [
             0.4444444444444444,
             "#bd3786"
            ],
            [
             0.5555555555555556,
             "#d8576b"
            ],
            [
             0.6666666666666666,
             "#ed7953"
            ],
            [
             0.7777777777777778,
             "#fb9f3a"
            ],
            [
             0.8888888888888888,
             "#fdca26"
            ],
            [
             1,
             "#f0f921"
            ]
           ],
           "sequentialminus": [
            [
             0,
             "#0d0887"
            ],
            [
             0.1111111111111111,
             "#46039f"
            ],
            [
             0.2222222222222222,
             "#7201a8"
            ],
            [
             0.3333333333333333,
             "#9c179e"
            ],
            [
             0.4444444444444444,
             "#bd3786"
            ],
            [
             0.5555555555555556,
             "#d8576b"
            ],
            [
             0.6666666666666666,
             "#ed7953"
            ],
            [
             0.7777777777777778,
             "#fb9f3a"
            ],
            [
             0.8888888888888888,
             "#fdca26"
            ],
            [
             1,
             "#f0f921"
            ]
           ]
          },
          "colorway": [
           "#636efa",
           "#EF553B",
           "#00cc96",
           "#ab63fa",
           "#FFA15A",
           "#19d3f3",
           "#FF6692",
           "#B6E880",
           "#FF97FF",
           "#FECB52"
          ],
          "font": {
           "color": "#2a3f5f"
          },
          "geo": {
           "bgcolor": "white",
           "lakecolor": "white",
           "landcolor": "#E5ECF6",
           "showlakes": true,
           "showland": true,
           "subunitcolor": "white"
          },
          "hoverlabel": {
           "align": "left"
          },
          "hovermode": "closest",
          "mapbox": {
           "style": "light"
          },
          "paper_bgcolor": "white",
          "plot_bgcolor": "#E5ECF6",
          "polar": {
           "angularaxis": {
            "gridcolor": "white",
            "linecolor": "white",
            "ticks": ""
           },
           "bgcolor": "#E5ECF6",
           "radialaxis": {
            "gridcolor": "white",
            "linecolor": "white",
            "ticks": ""
           }
          },
          "scene": {
           "xaxis": {
            "backgroundcolor": "#E5ECF6",
            "gridcolor": "white",
            "gridwidth": 2,
            "linecolor": "white",
            "showbackground": true,
            "ticks": "",
            "zerolinecolor": "white"
           },
           "yaxis": {
            "backgroundcolor": "#E5ECF6",
            "gridcolor": "white",
            "gridwidth": 2,
            "linecolor": "white",
            "showbackground": true,
            "ticks": "",
            "zerolinecolor": "white"
           },
           "zaxis": {
            "backgroundcolor": "#E5ECF6",
            "gridcolor": "white",
            "gridwidth": 2,
            "linecolor": "white",
            "showbackground": true,
            "ticks": "",
            "zerolinecolor": "white"
           }
          },
          "shapedefaults": {
           "line": {
            "color": "#2a3f5f"
           }
          },
          "ternary": {
           "aaxis": {
            "gridcolor": "white",
            "linecolor": "white",
            "ticks": ""
           },
           "baxis": {
            "gridcolor": "white",
            "linecolor": "white",
            "ticks": ""
           },
           "bgcolor": "#E5ECF6",
           "caxis": {
            "gridcolor": "white",
            "linecolor": "white",
            "ticks": ""
           }
          },
          "title": {
           "x": 0.05
          },
          "xaxis": {
           "automargin": true,
           "gridcolor": "white",
           "linecolor": "white",
           "ticks": "",
           "title": {
            "standoff": 15
           },
           "zerolinecolor": "white",
           "zerolinewidth": 2
          },
          "yaxis": {
           "automargin": true,
           "gridcolor": "white",
           "linecolor": "white",
           "ticks": "",
           "title": {
            "standoff": 15
           },
           "zerolinecolor": "white",
           "zerolinewidth": 2
          }
         }
        },
        "xaxis": {
         "anchor": "y",
         "domain": [
          0,
          1
         ],
         "side": "top",
         "title": {
          "text": "Days after first putchase"
         }
        },
        "yaxis": {
         "anchor": "x",
         "autorange": "reversed",
         "domain": [
          0,
          1
         ],
         "title": {
          "text": "Cohort (month)"
         }
        }
       }
      },
      "text/html": [
       "<div>                            <div id=\"d2cc8c32-9c41-42a1-9406-6dc568040876\" class=\"plotly-graph-div\" style=\"height:525px; width:100%;\"></div>            <script type=\"text/javascript\">                require([\"plotly\"], function(Plotly) {                    window.PLOTLYENV=window.PLOTLYENV || {};                                    if (document.getElementById(\"d2cc8c32-9c41-42a1-9406-6dc568040876\")) {                    Plotly.newPlot(                        \"d2cc8c32-9c41-42a1-9406-6dc568040876\",                        [{\"coloraxis\":\"coloraxis\",\"name\":\"0\",\"y\":[\"January\",\"February\",\" March\",\"April\",\"May\",\"June\",\"July\",\"August\",\"September\",\"October\"],\"z\":[[0.008359456635318705,0.012539184952978056,0.01567398119122257,0.009404388714733543,0.014629049111807733,0.013584117032392894,0.0010449320794148381,0.009404388714733543,0.003134796238244514,0.0041797283176593526,0.0073145245559038665,0.006269592476489028,0.013584117032392894,0.008359456635318705,0.008359456635318705,0.01044932079414838,0.01044932079414838,0.014629049111807733,0.008359456635318705,0.0073145245559038665,0.014629049111807733,0.017763845350052248,0.009404388714733543,0.01044932079414838,0.014629049111807733,0.0041797283176593526,0.009404388714733543,0.006269592476489028,0.0041797283176593526,0.0010449320794148381,0.0,0.0,0.0020898641588296763,0.0020898641588296763,0.0,0.0020898641588296763,0.0,0.0020898641588296763,0.0010449320794148381,0.003134796238244514,0.0010449320794148381,0.0,0.0010449320794148381,0.0020898641588296763,0.0020898641588296763,0.0,0.0020898641588296763,0.0020898641588296763,0.0010449320794148381,0.0,0.003134796238244514,0.003134796238244514,0.0010449320794148381,0.0020898641588296763,0.0020898641588296763,0.0020898641588296763,0.0041797283176593526,0.0,0.0,0.0010449320794148381,0.0010449320794148381,0.0,0.0,0.0,0.0,0.0020898641588296763,0.0,0.0020898641588296763,0.0,0.0,0.0020898641588296763,0.0,0.0020898641588296763,0.0010449320794148381,0.0010449320794148381,0.0010449320794148381,0.0020898641588296763,0.0,0.0,0.0010449320794148381,0.0020898641588296763,0.0,0.0,0.0010449320794148381,0.0,0.0],[0.011325028312570781,0.013590033975084938,0.011325028312570781,0.014722536806342015,0.009060022650056626,0.006795016987542469,0.010192525481313703,0.011325028312570781,0.0056625141562853904,0.010192525481313703,0.007927519818799546,0.009060022650056626,0.010192525481313703,0.009060022650056626,0.007927519818799546,0.006795016987542469,0.013590033975084938,0.010192525481313703,0.010192525481313703,0.004530011325028313,0.007927519818799546,0.010192525481313703,0.0056625141562853904,0.013590033975084938,0.01245753114382786,0.007927519818799546,0.007927519818799546,0.009060022650056626,0.004530011325028313,0.0,0.0,0.0011325028312570782,0.0011325028312570782,0.0022650056625141564,0.0,0.0,0.0011325028312570782,0.0,0.0,0.0,0.0011325028312570782,0.0011325028312570782,0.0011325028312570782,0.004530011325028313,0.0,0.0011325028312570782,0.0011325028312570782,0.0011325028312570782,0.0011325028312570782,0.0,0.0011325028312570782,0.0011325028312570782,0.0011325028312570782,0.0022650056625141564,0.0,0.0,0.0022650056625141564,0.0033975084937712344,0.0011325028312570782,0.0011325028312570782,0.0011325028312570782,0.004530011325028313,0.0,0.0011325028312570782,0.0011325028312570782,0.0011325028312570782,0.0011325028312570782,0.0,0.0,0.0011325028312570782,0.0011325028312570782,0.0022650056625141564,0.0,0.0,0.0,0.0,0.0,0.0,0.0,0.0,0.0,0.0,0.0,0.0,0.0,0.0],[0.016042780748663103,0.006417112299465241,0.009625668449197862,0.0074866310160427805,0.0106951871657754,0.009625668449197862,0.0106951871657754,0.008556149732620321,0.013903743315508022,0.012834224598930482,0.008556149732620321,0.012834224598930482,0.0042780748663101605,0.008556149732620321,0.012834224598930482,0.008556149732620321,0.0074866310160427805,0.0074866310160427805,0.0106951871657754,0.006417112299465241,0.0106951871657754,0.006417112299465241,0.0106951871657754,0.012834224598930482,0.0074866310160427805,0.0042780748663101605,0.012834224598930482,0.008556149732620321,0.0010695187165775401,0.0010695187165775401,0.0021390374331550803,0.0021390374331550803,0.0021390374331550803,0.0,0.0021390374331550803,0.0,0.0010695187165775401,0.0,0.0,0.0,0.0,0.0010695187165775401,0.0010695187165775401,0.0010695187165775401,0.0021390374331550803,0.0021390374331550803,0.0010695187165775401,0.0021390374331550803,0.0010695187165775401,0.0010695187165775401,0.0010695187165775401,0.0021390374331550803,0.0042780748663101605,0.0010695187165775401,0.0021390374331550803,0.0032085561497326204,0.0,0.0,0.0032085561497326204,0.0021390374331550803,0.0021390374331550803,0.0010695187165775401,0.0021390374331550803,0.0,0.0,0.0021390374331550803,0.0,0.0010695187165775401,0.0042780748663101605,0.0,0.0010695187165775401,0.0,0.0010695187165775401,0.0010695187165775401,0.0010695187165775401,0.0,0.0,0.0,0.0010695187165775401,0.0,0.0,0.0,0.0,0.0010695187165775401,0.0,0.0010695187165775401],[0.006659267480577136,0.006659267480577136,0.006659267480577136,0.00776914539400666,0.01220865704772475,0.00776914539400666,0.004439511653718091,0.005549389567147614,0.00776914539400666,0.004439511653718091,0.008879023307436182,0.00776914539400666,0.009988901220865706,0.005549389567147614,0.006659267480577136,0.004439511653718091,0.00776914539400666,0.006659267480577136,0.006659267480577136,0.008879023307436182,0.008879023307436182,0.006659267480577136,0.009988901220865706,0.005549389567147614,0.01220865704772475,0.006659267480577136,0.006659267480577136,0.009988901220865706,0.0011098779134295228,0.0,0.0,0.0011098779134295228,0.0,0.0011098779134295228,0.0,0.0022197558268590455,0.0022197558268590455,0.0,0.0011098779134295228,0.0,0.0,0.0,0.0,0.0,0.0,0.0,0.003329633740288568,0.003329633740288568,0.004439511653718091,0.0022197558268590455,0.0,0.0011098779134295228,0.0,0.0022197558268590455,0.0,0.0022197558268590455,0.0022197558268590455,0.0011098779134295228,0.0022197558268590455,0.0,0.005549389567147614,0.0,0.0,0.0011098779134295228,0.0022197558268590455,0.0,0.0022197558268590455,0.0,0.0,0.0022197558268590455,0.0,0.0,0.0,0.0,0.0,0.0,0.0,0.0,0.0,0.0,0.0,0.0,0.0011098779134295228,0.0,0.0011098779134295228,0.0],[0.002325581395348837,0.0069767441860465115,0.0069767441860465115,0.002325581395348837,0.004651162790697674,0.0069767441860465115,0.011627906976744186,0.009302325581395349,0.0034883720930232558,0.012790697674418604,0.004651162790697674,0.005813953488372093,0.0069767441860465115,0.004651162790697674,0.0069767441860465115,0.009302325581395349,0.0069767441860465115,0.00813953488372093,0.00813953488372093,0.00813953488372093,0.0034883720930232558,0.0034883720930232558,0.004651162790697674,0.010465116279069767,0.009302325581395349,0.0069767441860465115,0.009302325581395349,0.0069767441860465115,0.0,0.0,0.0,0.0,0.0,0.0011627906976744186,0.0,0.0,0.0,0.0011627906976744186,0.0011627906976744186,0.0,0.0,0.0,0.0011627906976744186,0.002325581395348837,0.0011627906976744186,0.0011627906976744186,0.0,0.002325581395348837,0.0,0.002325581395348837,0.0,0.0,0.0,0.0,0.0011627906976744186,0.0,0.0,0.0011627906976744186,0.0,0.0011627906976744186,0.0011627906976744186,0.002325581395348837,0.0011627906976744186,0.0,0.0,0.0,0.002325581395348837,0.0,0.0034883720930232558,0.0011627906976744186,0.0011627906976744186,0.0011627906976744186,0.0,0.0,0.0,0.0011627906976744186,0.0,0.0,0.0,0.0,0.0,0.0,0.0,0.0,0.0,0.0],[0.010830324909747292,0.007220216606498195,0.00842358604091456,0.006016847172081829,0.007220216606498195,0.009626955475330927,0.0048134777376654635,0.0024067388688327317,0.006016847172081829,0.006016847172081829,0.0036101083032490976,0.012033694344163659,0.007220216606498195,0.012033694344163659,0.0036101083032490976,0.0048134777376654635,0.0036101083032490976,0.00842358604091456,0.00842358604091456,0.006016847172081829,0.00842358604091456,0.00842358604091456,0.00842358604091456,0.006016847172081829,0.006016847172081829,0.0036101083032490976,0.009626955475330927,0.010830324909747292,0.0,0.0,0.0012033694344163659,0.0,0.0,0.0,0.0,0.0024067388688327317,0.0012033694344163659,0.0,0.0,0.0,0.0,0.0024067388688327317,0.0012033694344163659,0.0012033694344163659,0.0048134777376654635,0.0,0.0012033694344163659,0.0,0.0024067388688327317,0.0,0.0,0.0,0.0012033694344163659,0.0,0.0012033694344163659,0.0024067388688327317,0.0012033694344163659,0.0,0.0012033694344163659,0.0024067388688327317,0.0,0.0012033694344163659,0.0,0.0024067388688327317,0.0,0.0012033694344163659,0.0,0.0,0.0,0.0,0.0024067388688327317,0.0,0.0,0.0012033694344163659,0.0012033694344163659,0.0,0.0,0.0,0.0012033694344163659,0.0,0.0,0.0,0.0,0.0,0.0,0.0],[0.005773672055427252,0.006928406466512702,0.004618937644341801,0.008083140877598153,0.004618937644341801,0.004618937644341801,0.003464203233256351,0.006928406466512702,0.003464203233256351,0.004618937644341801,0.011547344110854504,0.009237875288683603,0.006928406466512702,0.005773672055427252,0.010392609699769052,0.006928406466512702,0.003464203233256351,0.004618937644341801,0.009237875288683603,0.0011547344110854503,0.004618937644341801,0.003464203233256351,0.005773672055427252,0.008083140877598153,0.0023094688221709007,0.009237875288683603,0.004618937644341801,0.004618937644341801,0.0,0.0011547344110854503,0.0,0.0,0.0,0.0,0.0,0.0,0.0,0.0,0.0,0.0,0.0,0.0,0.0011547344110854503,0.0011547344110854503,0.0,0.0011547344110854503,0.0023094688221709007,0.0,0.0,0.0,0.0011547344110854503,0.0011547344110854503,0.0011547344110854503,0.0,0.0011547344110854503,0.0011547344110854503,0.0,0.0011547344110854503,0.0023094688221709007,0.0,0.0011547344110854503,0.0,0.0,0.0,0.0,0.0,0.0011547344110854503,0.0011547344110854503,0.0011547344110854503,0.0,0.0011547344110854503,0.0,0.0011547344110854503,0.0,0.0,0.0,0.0,0.0011547344110854503,0.0,0.0,0.0,0.0011547344110854503,0.0,0.0,0.0,0.0],[0.0011025358324145535,0.008820286659316428,0.004410143329658214,0.006615214994487321,0.005512679162072767,0.002205071664829107,0.011025358324145534,0.004410143329658214,0.0011025358324145535,0.004410143329658214,0.005512679162072767,0.0033076074972436605,0.007717750826901874,0.0033076074972436605,0.0033076074972436605,0.005512679162072767,0.005512679162072767,0.0033076074972436605,0.002205071664829107,0.004410143329658214,0.008820286659316428,0.007717750826901874,0.004410143329658214,0.005512679162072767,0.004410143329658214,0.004410143329658214,0.0033076074972436605,0.006615214994487321,0.0,0.0,0.0,0.0011025358324145535,0.0,0.0011025358324145535,0.0,0.0,0.0,0.0,0.0,0.0,0.0,0.0,0.0011025358324145535,0.0,0.0,0.0011025358324145535,0.0,0.0,0.0,0.0,0.0,0.0,0.0011025358324145535,0.0011025358324145535,0.0011025358324145535,0.0,0.0,0.0,0.0011025358324145535,0.0,0.0,0.0,0.0011025358324145535,0.0,0.0,0.0011025358324145535,0.0,0.0,0.0,0.0,0.0,0.0011025358324145535,0.0,0.0,0.0,0.0,0.0,0.0,0.0,0.0,0.0,0.0,0.0,0.0,0.0,0.0],[0.004618937644341801,0.004618937644341801,0.0011547344110854503,0.0023094688221709007,0.003464203233256351,0.0023094688221709007,0.011547344110854504,0.003464203233256351,0.003464203233256351,0.004618937644341801,0.006928406466512702,0.005773672055427252,0.006928406466512702,0.005773672055427252,0.0023094688221709007,0.003464203233256351,0.004618937644341801,0.004618937644341801,0.005773672055427252,0.006928406466512702,0.005773672055427252,0.003464203233256351,0.003464203233256351,0.003464203233256351,0.0023094688221709007,0.004618937644341801,0.0023094688221709007,0.005773672055427252,0.0,0.0011547344110854503,0.0,0.0,0.0011547344110854503,0.0,0.0,0.0,0.0,0.0011547344110854503,0.0,0.0,0.0,0.0,0.0,0.0,0.0011547344110854503,0.0,0.0,0.0,0.0,0.0,0.0,0.0,0.0,0.0,0.0,0.0,0.0,0.0,0.0,0.0,0.0,0.0,0.0,0.0,0.0,0.0,0.0,0.0,0.0,0.0,0.0,0.0,0.0,0.0,0.0,0.0,0.0,0.0,0.0,0.0,0.0,0.0,0.0,0.0,0.0,0.0],[0.004352557127312296,0.007616974972796518,0.00544069640914037,0.001088139281828074,0.003264417845484222,0.001088139281828074,0.001088139281828074,0.002176278563656148,0.002176278563656148,0.001088139281828074,0.004352557127312296,0.002176278563656148,0.003264417845484222,0.001088139281828074,0.001088139281828074,0.001088139281828074,0.0,0.001088139281828074,0.001088139281828074,0.0,0.002176278563656148,0.0,0.0,0.0,0.001088139281828074,0.0,0.0,0.0,0.0,0.0,0.0,0.0,0.0,0.0,0.0,0.0,0.0,0.0,0.0,0.0,0.0,0.0,0.0,0.0,0.0,0.0,0.0,0.0,0.0,0.0,0.0,0.0,0.0,0.0,0.0,0.0,0.0,0.0,0.0,0.0,0.0,0.0,0.0,0.0,0.0,0.0,0.0,0.0,0.0,0.0,0.0,0.0,0.0,0.0,0.0,0.0,0.0,0.0,0.0,0.0,0.0,0.0,0.0,0.0,0.0,0.0]],\"type\":\"heatmap\",\"xaxis\":\"x\",\"yaxis\":\"y\",\"hovertemplate\":\"Days after first putchase: %{x}<br>Cohort (month): %{y}<br>Retention (%): %{z}<extra></extra>\"}],                        {\"template\":{\"data\":{\"histogram2dcontour\":[{\"type\":\"histogram2dcontour\",\"colorbar\":{\"outlinewidth\":0,\"ticks\":\"\"},\"colorscale\":[[0.0,\"#0d0887\"],[0.1111111111111111,\"#46039f\"],[0.2222222222222222,\"#7201a8\"],[0.3333333333333333,\"#9c179e\"],[0.4444444444444444,\"#bd3786\"],[0.5555555555555556,\"#d8576b\"],[0.6666666666666666,\"#ed7953\"],[0.7777777777777778,\"#fb9f3a\"],[0.8888888888888888,\"#fdca26\"],[1.0,\"#f0f921\"]]}],\"choropleth\":[{\"type\":\"choropleth\",\"colorbar\":{\"outlinewidth\":0,\"ticks\":\"\"}}],\"histogram2d\":[{\"type\":\"histogram2d\",\"colorbar\":{\"outlinewidth\":0,\"ticks\":\"\"},\"colorscale\":[[0.0,\"#0d0887\"],[0.1111111111111111,\"#46039f\"],[0.2222222222222222,\"#7201a8\"],[0.3333333333333333,\"#9c179e\"],[0.4444444444444444,\"#bd3786\"],[0.5555555555555556,\"#d8576b\"],[0.6666666666666666,\"#ed7953\"],[0.7777777777777778,\"#fb9f3a\"],[0.8888888888888888,\"#fdca26\"],[1.0,\"#f0f921\"]]}],\"heatmap\":[{\"type\":\"heatmap\",\"colorbar\":{\"outlinewidth\":0,\"ticks\":\"\"},\"colorscale\":[[0.0,\"#0d0887\"],[0.1111111111111111,\"#46039f\"],[0.2222222222222222,\"#7201a8\"],[0.3333333333333333,\"#9c179e\"],[0.4444444444444444,\"#bd3786\"],[0.5555555555555556,\"#d8576b\"],[0.6666666666666666,\"#ed7953\"],[0.7777777777777778,\"#fb9f3a\"],[0.8888888888888888,\"#fdca26\"],[1.0,\"#f0f921\"]]}],\"heatmapgl\":[{\"type\":\"heatmapgl\",\"colorbar\":{\"outlinewidth\":0,\"ticks\":\"\"},\"colorscale\":[[0.0,\"#0d0887\"],[0.1111111111111111,\"#46039f\"],[0.2222222222222222,\"#7201a8\"],[0.3333333333333333,\"#9c179e\"],[0.4444444444444444,\"#bd3786\"],[0.5555555555555556,\"#d8576b\"],[0.6666666666666666,\"#ed7953\"],[0.7777777777777778,\"#fb9f3a\"],[0.8888888888888888,\"#fdca26\"],[1.0,\"#f0f921\"]]}],\"contourcarpet\":[{\"type\":\"contourcarpet\",\"colorbar\":{\"outlinewidth\":0,\"ticks\":\"\"}}],\"contour\":[{\"type\":\"contour\",\"colorbar\":{\"outlinewidth\":0,\"ticks\":\"\"},\"colorscale\":[[0.0,\"#0d0887\"],[0.1111111111111111,\"#46039f\"],[0.2222222222222222,\"#7201a8\"],[0.3333333333333333,\"#9c179e\"],[0.4444444444444444,\"#bd3786\"],[0.5555555555555556,\"#d8576b\"],[0.6666666666666666,\"#ed7953\"],[0.7777777777777778,\"#fb9f3a\"],[0.8888888888888888,\"#fdca26\"],[1.0,\"#f0f921\"]]}],\"surface\":[{\"type\":\"surface\",\"colorbar\":{\"outlinewidth\":0,\"ticks\":\"\"},\"colorscale\":[[0.0,\"#0d0887\"],[0.1111111111111111,\"#46039f\"],[0.2222222222222222,\"#7201a8\"],[0.3333333333333333,\"#9c179e\"],[0.4444444444444444,\"#bd3786\"],[0.5555555555555556,\"#d8576b\"],[0.6666666666666666,\"#ed7953\"],[0.7777777777777778,\"#fb9f3a\"],[0.8888888888888888,\"#fdca26\"],[1.0,\"#f0f921\"]]}],\"mesh3d\":[{\"type\":\"mesh3d\",\"colorbar\":{\"outlinewidth\":0,\"ticks\":\"\"}}],\"scatter\":[{\"fillpattern\":{\"fillmode\":\"overlay\",\"size\":10,\"solidity\":0.2},\"type\":\"scatter\"}],\"parcoords\":[{\"type\":\"parcoords\",\"line\":{\"colorbar\":{\"outlinewidth\":0,\"ticks\":\"\"}}}],\"scatterpolargl\":[{\"type\":\"scatterpolargl\",\"marker\":{\"colorbar\":{\"outlinewidth\":0,\"ticks\":\"\"}}}],\"bar\":[{\"error_x\":{\"color\":\"#2a3f5f\"},\"error_y\":{\"color\":\"#2a3f5f\"},\"marker\":{\"line\":{\"color\":\"#E5ECF6\",\"width\":0.5},\"pattern\":{\"fillmode\":\"overlay\",\"size\":10,\"solidity\":0.2}},\"type\":\"bar\"}],\"scattergeo\":[{\"type\":\"scattergeo\",\"marker\":{\"colorbar\":{\"outlinewidth\":0,\"ticks\":\"\"}}}],\"scatterpolar\":[{\"type\":\"scatterpolar\",\"marker\":{\"colorbar\":{\"outlinewidth\":0,\"ticks\":\"\"}}}],\"histogram\":[{\"marker\":{\"pattern\":{\"fillmode\":\"overlay\",\"size\":10,\"solidity\":0.2}},\"type\":\"histogram\"}],\"scattergl\":[{\"type\":\"scattergl\",\"marker\":{\"colorbar\":{\"outlinewidth\":0,\"ticks\":\"\"}}}],\"scatter3d\":[{\"type\":\"scatter3d\",\"line\":{\"colorbar\":{\"outlinewidth\":0,\"ticks\":\"\"}},\"marker\":{\"colorbar\":{\"outlinewidth\":0,\"ticks\":\"\"}}}],\"scattermapbox\":[{\"type\":\"scattermapbox\",\"marker\":{\"colorbar\":{\"outlinewidth\":0,\"ticks\":\"\"}}}],\"scatterternary\":[{\"type\":\"scatterternary\",\"marker\":{\"colorbar\":{\"outlinewidth\":0,\"ticks\":\"\"}}}],\"scattercarpet\":[{\"type\":\"scattercarpet\",\"marker\":{\"colorbar\":{\"outlinewidth\":0,\"ticks\":\"\"}}}],\"carpet\":[{\"aaxis\":{\"endlinecolor\":\"#2a3f5f\",\"gridcolor\":\"white\",\"linecolor\":\"white\",\"minorgridcolor\":\"white\",\"startlinecolor\":\"#2a3f5f\"},\"baxis\":{\"endlinecolor\":\"#2a3f5f\",\"gridcolor\":\"white\",\"linecolor\":\"white\",\"minorgridcolor\":\"white\",\"startlinecolor\":\"#2a3f5f\"},\"type\":\"carpet\"}],\"table\":[{\"cells\":{\"fill\":{\"color\":\"#EBF0F8\"},\"line\":{\"color\":\"white\"}},\"header\":{\"fill\":{\"color\":\"#C8D4E3\"},\"line\":{\"color\":\"white\"}},\"type\":\"table\"}],\"barpolar\":[{\"marker\":{\"line\":{\"color\":\"#E5ECF6\",\"width\":0.5},\"pattern\":{\"fillmode\":\"overlay\",\"size\":10,\"solidity\":0.2}},\"type\":\"barpolar\"}],\"pie\":[{\"automargin\":true,\"type\":\"pie\"}]},\"layout\":{\"autotypenumbers\":\"strict\",\"colorway\":[\"#636efa\",\"#EF553B\",\"#00cc96\",\"#ab63fa\",\"#FFA15A\",\"#19d3f3\",\"#FF6692\",\"#B6E880\",\"#FF97FF\",\"#FECB52\"],\"font\":{\"color\":\"#2a3f5f\"},\"hovermode\":\"closest\",\"hoverlabel\":{\"align\":\"left\"},\"paper_bgcolor\":\"white\",\"plot_bgcolor\":\"#E5ECF6\",\"polar\":{\"bgcolor\":\"#E5ECF6\",\"angularaxis\":{\"gridcolor\":\"white\",\"linecolor\":\"white\",\"ticks\":\"\"},\"radialaxis\":{\"gridcolor\":\"white\",\"linecolor\":\"white\",\"ticks\":\"\"}},\"ternary\":{\"bgcolor\":\"#E5ECF6\",\"aaxis\":{\"gridcolor\":\"white\",\"linecolor\":\"white\",\"ticks\":\"\"},\"baxis\":{\"gridcolor\":\"white\",\"linecolor\":\"white\",\"ticks\":\"\"},\"caxis\":{\"gridcolor\":\"white\",\"linecolor\":\"white\",\"ticks\":\"\"}},\"coloraxis\":{\"colorbar\":{\"outlinewidth\":0,\"ticks\":\"\"}},\"colorscale\":{\"sequential\":[[0.0,\"#0d0887\"],[0.1111111111111111,\"#46039f\"],[0.2222222222222222,\"#7201a8\"],[0.3333333333333333,\"#9c179e\"],[0.4444444444444444,\"#bd3786\"],[0.5555555555555556,\"#d8576b\"],[0.6666666666666666,\"#ed7953\"],[0.7777777777777778,\"#fb9f3a\"],[0.8888888888888888,\"#fdca26\"],[1.0,\"#f0f921\"]],\"sequentialminus\":[[0.0,\"#0d0887\"],[0.1111111111111111,\"#46039f\"],[0.2222222222222222,\"#7201a8\"],[0.3333333333333333,\"#9c179e\"],[0.4444444444444444,\"#bd3786\"],[0.5555555555555556,\"#d8576b\"],[0.6666666666666666,\"#ed7953\"],[0.7777777777777778,\"#fb9f3a\"],[0.8888888888888888,\"#fdca26\"],[1.0,\"#f0f921\"]],\"diverging\":[[0,\"#8e0152\"],[0.1,\"#c51b7d\"],[0.2,\"#de77ae\"],[0.3,\"#f1b6da\"],[0.4,\"#fde0ef\"],[0.5,\"#f7f7f7\"],[0.6,\"#e6f5d0\"],[0.7,\"#b8e186\"],[0.8,\"#7fbc41\"],[0.9,\"#4d9221\"],[1,\"#276419\"]]},\"xaxis\":{\"gridcolor\":\"white\",\"linecolor\":\"white\",\"ticks\":\"\",\"title\":{\"standoff\":15},\"zerolinecolor\":\"white\",\"automargin\":true,\"zerolinewidth\":2},\"yaxis\":{\"gridcolor\":\"white\",\"linecolor\":\"white\",\"ticks\":\"\",\"title\":{\"standoff\":15},\"zerolinecolor\":\"white\",\"automargin\":true,\"zerolinewidth\":2},\"scene\":{\"xaxis\":{\"backgroundcolor\":\"#E5ECF6\",\"gridcolor\":\"white\",\"linecolor\":\"white\",\"showbackground\":true,\"ticks\":\"\",\"zerolinecolor\":\"white\",\"gridwidth\":2},\"yaxis\":{\"backgroundcolor\":\"#E5ECF6\",\"gridcolor\":\"white\",\"linecolor\":\"white\",\"showbackground\":true,\"ticks\":\"\",\"zerolinecolor\":\"white\",\"gridwidth\":2},\"zaxis\":{\"backgroundcolor\":\"#E5ECF6\",\"gridcolor\":\"white\",\"linecolor\":\"white\",\"showbackground\":true,\"ticks\":\"\",\"zerolinecolor\":\"white\",\"gridwidth\":2}},\"shapedefaults\":{\"line\":{\"color\":\"#2a3f5f\"}},\"annotationdefaults\":{\"arrowcolor\":\"#2a3f5f\",\"arrowhead\":0,\"arrowwidth\":1},\"geo\":{\"bgcolor\":\"white\",\"landcolor\":\"#E5ECF6\",\"subunitcolor\":\"white\",\"showland\":true,\"showlakes\":true,\"lakecolor\":\"white\"},\"title\":{\"x\":0.05},\"mapbox\":{\"style\":\"light\"}}},\"xaxis\":{\"anchor\":\"y\",\"domain\":[0.0,1.0],\"title\":{\"text\":\"Days after first putchase\"},\"side\":\"top\"},\"yaxis\":{\"anchor\":\"x\",\"domain\":[0.0,1.0],\"autorange\":\"reversed\",\"title\":{\"text\":\"Cohort (month)\"}},\"coloraxis\":{\"colorbar\":{\"title\":{\"text\":\"Retention (%)\"}},\"colorscale\":[[0.0,\"#0d0887\"],[0.1111111111111111,\"#46039f\"],[0.2222222222222222,\"#7201a8\"],[0.3333333333333333,\"#9c179e\"],[0.4444444444444444,\"#bd3786\"],[0.5555555555555556,\"#d8576b\"],[0.6666666666666666,\"#ed7953\"],[0.7777777777777778,\"#fb9f3a\"],[0.8888888888888888,\"#fdca26\"],[1.0,\"#f0f921\"]]},\"margin\":{\"t\":60}},                        {\"responsive\": true}                    ).then(function(){\n",
       "                            \n",
       "var gd = document.getElementById('d2cc8c32-9c41-42a1-9406-6dc568040876');\n",
       "var x = new MutationObserver(function (mutations, observer) {{\n",
       "        var display = window.getComputedStyle(gd).display;\n",
       "        if (!display || display === 'none') {{\n",
       "            console.log([gd, 'removed!']);\n",
       "            Plotly.purge(gd);\n",
       "            observer.disconnect();\n",
       "        }}\n",
       "}});\n",
       "\n",
       "// Listen for the removal of the full notebook cells\n",
       "var notebookContainer = gd.closest('#notebook-container');\n",
       "if (notebookContainer) {{\n",
       "    x.observe(notebookContainer, {childList: true});\n",
       "}}\n",
       "\n",
       "// Listen for the clearing of the current output cell\n",
       "var outputEl = gd.closest('.output');\n",
       "if (outputEl) {{\n",
       "    x.observe(outputEl, {childList: true});\n",
       "}}\n",
       "\n",
       "                        })                };                });            </script>        </div>"
      ]
     },
     "metadata": {},
     "output_type": "display_data"
    }
   ],
   "source": [
    "fig = pl.imshow(retention_matrix.fillna(0).values,  aspect=\"auto\",\n",
    "                labels=dict(x=\"Days after first putchase\", y=\"Cohort (month)\", color=\"Retention (%)\"),\n",
    "                y=[\"January\", \"February\",\" March\", \"April\", \"May\", \"June\", \"July\", \"August\", \"September\", \"October\"]\n",
    "               )\n",
    "fig.update_xaxes(side=\"top\")\n",
    "fig.show()"
   ]
  },
  {
   "cell_type": "markdown",
   "id": "bff0f377",
   "metadata": {},
   "source": [
    "В целом, можем наблюдать аналогичную картину: после 30-го retention существенно проваливается. \n",
    "Что мы можем выяснить дополнительно?\n",
    "\n",
    "Просадка на 10 (примерно на 10 я имею ввиду) день характерна не для каждого месяца: к ним относится январь, апрель, июнь, июль и август. Про апрель не слишком понятно, но остальные месяца - традиционные месяца отдыха, когда, вполне вероятно, люди не склонны планировать длительные и, что важнее, комплексные ремонтные работы.\n",
    "\n",
    "Чем стоило бы дополнить анализ? Ну, судя по датасету, напрашивается посмотреть на более тонкие когорты: например, по номеру города. Ещё можно дополнительно сгруппировать клиентов по сумме заказа (дешевые, средние и дорогие).\n",
    "\n",
    "В любом случае, напрашивается смотреть не только на удержание, но и на сумму заказов: возможно, что те крохи клиентов, которые остаюстя после месяца, могут приносить существенную выручку."
   ]
  },
  {
   "cell_type": "markdown",
   "id": "5b8e8cf0",
   "metadata": {},
   "source": [
    "# Вопрос 3 \n",
    "## Решение обобщенным методом моментов\n",
    "$$z=(a+x)^{b+y}+\\epsilon$$\n",
    "Для оценивания двух параметров необходимо, по меньшей мере, 2 моментных условия. Cоставим моментные условия следующим образом:\n",
    "$$M(z)=M((a+x)^{b+y})+0.05$$\n",
    "$$M(z^2)=M((a+x)^{2b+2y})+0.1M((a+x)^{b+y})+\\frac{0.01}{3}$$\n",
    "Заменим моменты на выборочные аналоги и приведем моментные условия к виду $g_i=0$:\n",
    "$$g_1=\\frac{\\sum_{i=1}^{n} z_i}{n}-\\frac{\\sum_{i=1}^{n} (a+x_i)^{b+y_i}}{n}-0.05$$\n",
    "$$g_2=\\frac{\\sum_{i=1}^{n} z_i^2}{n}-\\frac{\\sum_{i=1}^{n} (a+x_i)^{2b+2y_i}}{n}-0.1\\frac{\\sum_{i=1}^{n} (a+x_i)^{b+y_i}}{n}-\\frac{0.01}{3}$$\n",
    "Будем оценивать параметры, решая следующую задачу:\n",
    "$$g_1^2+g_2^2\\rightarrow min$$"
   ]
  },
  {
   "cell_type": "code",
   "execution_count": 119,
   "id": "704f5b6c",
   "metadata": {},
   "outputs": [
    {
     "data": {
      "text/plain": [
       "array([1., 9.])"
      ]
     },
     "execution_count": 119,
     "metadata": {},
     "output_type": "execute_result"
    }
   ],
   "source": [
    "#проверка на синтетических данных\n",
    "x = np.random.uniform(low=1, high=10, size=100)\n",
    "y = np.random.normal(loc=1, scale=10, size=100)\n",
    "eps = np.random.uniform(low=0.0, high=0.1, size=100)\n",
    "a = 1\n",
    "b = 9\n",
    "z = np.float_power((a+x),(b+y))+eps\n",
    "df = pd.DataFrame({\"x\":x,\"y\":y,\"z\":z})\n",
    "#df\n",
    "def estimator(x):\n",
    "    a,b=x\n",
    "    global df\n",
    "    g1=df[\"z\"].mean()-((a+df[\"x\"])**(b+df[\"y\"])).mean()-0.05\n",
    "    g2=(df[\"z\"]**2).mean()-((a+df[\"x\"])**(2*(b+df[\"y\"]))).mean()-0.1*((a+df[\"x\"])**(b+df[\"y\"])).mean()-0.01/3\n",
    "    return g1**2+g2**2\n",
    "rranges = (slice(1, 10, 0.01), slice(1, 10, 0.01))\n",
    "x1 = scipy.optimize.brute(estimator,rranges)\n",
    "x1"
   ]
  },
  {
   "cell_type": "code",
   "execution_count": 118,
   "id": "3178b32a",
   "metadata": {},
   "outputs": [
    {
     "data": {
      "text/plain": [
       "array([3.34305807, 2.58991463])"
      ]
     },
     "execution_count": 118,
     "metadata": {},
     "output_type": "execute_result"
    }
   ],
   "source": [
    "df_3 = pd.read_excel(\"test_data_3.xlsx\")\n",
    "def estimator(x):\n",
    "    a,b=x\n",
    "    global df_3\n",
    "    df = df_3\n",
    "    g1=df[\"z\"].mean()-((a+df[\"x\"])**(b+df[\"y\"])).mean()-0.05\n",
    "    g2=(df[\"z\"]**2).mean()-((a+df[\"x\"])**(2*(b+df[\"y\"]))).mean()-0.1*((a+df[\"x\"])**(b+df[\"y\"])).mean()-0.01/3\n",
    "    return g1**2+g2**2\n",
    "rranges = (slice(1, 10, 0.01), slice(1, 10, 0.01))\n",
    "x1 = scipy.optimize.brute(estimator,rranges)\n",
    "x1"
   ]
  },
  {
   "cell_type": "markdown",
   "id": "bddf39fb",
   "metadata": {},
   "source": [
    "# Вопрос 2"
   ]
  },
  {
   "cell_type": "code",
   "execution_count": 235,
   "id": "7b99e25f",
   "metadata": {},
   "outputs": [],
   "source": [
    "df_2 = pd.read_excel(\"test_data_2.xlsx\")"
   ]
  },
  {
   "cell_type": "code",
   "execution_count": 236,
   "id": "4a3528fa",
   "metadata": {},
   "outputs": [],
   "source": [
    "from sklearn.cluster import DBSCAN"
   ]
  },
  {
   "cell_type": "code",
   "execution_count": 237,
   "id": "00b0542d",
   "metadata": {},
   "outputs": [
    {
     "data": {
      "text/plain": [
       "array([-1,  0,  1, -1, -1,  1, -1, -1, -1, -1, -1, -1, -1, -1, -1, -1,  2,\n",
       "       -1, -1,  3, -1, -1, -1, -1,  0,  3,  2,  1, -1, -1, -1, -1, -1, -1,\n",
       "       -1, -1,  0,  4,  3, -1, -1, -1, -1,  5,  5,  2, -1,  0, -1, -1,  1,\n",
       "        4, -1, -1, -1,  3, -1, -1, -1,  6, -1,  2, -1, -1,  5, -1,  6, -1,\n",
       "        6, -1, -1, -1,  4, -1, -1, -1, -1, -1, -1,  5, -1, -1, -1,  4, -1,\n",
       "       -1, -1,  0, -1, -1,  6,  6, -1, -1,  5, -1, -1,  4, -1, -1, -1, -1,\n",
       "       -1,  3, -1, -1, -1, -1, -1, -1, -1, -1, -1, -1, -1, -1, -1,  1, -1,\n",
       "        2,  7,  7, -1,  8, -1, -1,  9, -1, -1, -1, -1, -1, -1,  9, -1, -1,\n",
       "       -1, -1, -1, -1, -1, -1, -1, -1,  9, -1, -1, 10, -1,  7,  7, -1, -1,\n",
       "       -1, -1,  8, -1,  8, 11, -1, -1, 11, 10, -1,  9,  9, 10, -1, -1,  9,\n",
       "        9, -1, 11, -1, -1, -1, -1, -1, -1, -1, -1, 10,  8,  8,  8, -1, -1,\n",
       "       -1, -1, 11,  7, -1,  8, -1, -1, -1, -1, -1, -1, -1,  8, -1, -1, 10,\n",
       "       11, -1, -1, -1, -1, -1, -1, -1, -1, 10, -1, -1, -1, -1,  9, -1, -1,\n",
       "        8, -1, -1, -1, -1, -1, -1, -1, -1, -1,  7, -1, -1, -1, -1, -1, -1,\n",
       "       -1, -1], dtype=int64)"
      ]
     },
     "execution_count": 237,
     "metadata": {},
     "output_type": "execute_result"
    }
   ],
   "source": [
    "clstr = DBSCAN(eps=0.1,min_samples=5,p=1)\n",
    "clstr.fit(df_2)\n",
    "clstr.labels_"
   ]
  },
  {
   "cell_type": "code",
   "execution_count": 238,
   "id": "5e229901",
   "metadata": {},
   "outputs": [
    {
     "data": {
      "text/html": [
       "<div>\n",
       "<style scoped>\n",
       "    .dataframe tbody tr th:only-of-type {\n",
       "        vertical-align: middle;\n",
       "    }\n",
       "\n",
       "    .dataframe tbody tr th {\n",
       "        vertical-align: top;\n",
       "    }\n",
       "\n",
       "    .dataframe thead th {\n",
       "        text-align: right;\n",
       "    }\n",
       "</style>\n",
       "<table border=\"1\" class=\"dataframe\">\n",
       "  <thead>\n",
       "    <tr style=\"text-align: right;\">\n",
       "      <th></th>\n",
       "      <th>0</th>\n",
       "      <th>1</th>\n",
       "      <th>2</th>\n",
       "      <th>3</th>\n",
       "      <th>4</th>\n",
       "      <th>5</th>\n",
       "      <th>6</th>\n",
       "    </tr>\n",
       "    <tr>\n",
       "      <th>lbls</th>\n",
       "      <th></th>\n",
       "      <th></th>\n",
       "      <th></th>\n",
       "      <th></th>\n",
       "      <th></th>\n",
       "      <th></th>\n",
       "      <th></th>\n",
       "    </tr>\n",
       "  </thead>\n",
       "  <tbody>\n",
       "    <tr>\n",
       "      <th>-1</th>\n",
       "      <td>0.502924</td>\n",
       "      <td>0.415205</td>\n",
       "      <td>0.497076</td>\n",
       "      <td>0.538012</td>\n",
       "      <td>0.520468</td>\n",
       "      <td>0.526316</td>\n",
       "      <td>0.532164</td>\n",
       "    </tr>\n",
       "    <tr>\n",
       "      <th>0</th>\n",
       "      <td>0.000000</td>\n",
       "      <td>1.000000</td>\n",
       "      <td>0.000000</td>\n",
       "      <td>0.000000</td>\n",
       "      <td>1.000000</td>\n",
       "      <td>0.000000</td>\n",
       "      <td>1.000000</td>\n",
       "    </tr>\n",
       "    <tr>\n",
       "      <th>1</th>\n",
       "      <td>0.000000</td>\n",
       "      <td>1.000000</td>\n",
       "      <td>0.000000</td>\n",
       "      <td>0.000000</td>\n",
       "      <td>1.000000</td>\n",
       "      <td>0.000000</td>\n",
       "      <td>0.000000</td>\n",
       "    </tr>\n",
       "    <tr>\n",
       "      <th>2</th>\n",
       "      <td>0.000000</td>\n",
       "      <td>1.000000</td>\n",
       "      <td>0.000000</td>\n",
       "      <td>1.000000</td>\n",
       "      <td>0.000000</td>\n",
       "      <td>1.000000</td>\n",
       "      <td>0.000000</td>\n",
       "    </tr>\n",
       "    <tr>\n",
       "      <th>3</th>\n",
       "      <td>0.000000</td>\n",
       "      <td>0.000000</td>\n",
       "      <td>1.000000</td>\n",
       "      <td>1.000000</td>\n",
       "      <td>1.000000</td>\n",
       "      <td>1.000000</td>\n",
       "      <td>1.000000</td>\n",
       "    </tr>\n",
       "    <tr>\n",
       "      <th>4</th>\n",
       "      <td>0.000000</td>\n",
       "      <td>1.000000</td>\n",
       "      <td>0.000000</td>\n",
       "      <td>1.000000</td>\n",
       "      <td>1.000000</td>\n",
       "      <td>0.000000</td>\n",
       "      <td>1.000000</td>\n",
       "    </tr>\n",
       "    <tr>\n",
       "      <th>5</th>\n",
       "      <td>0.000000</td>\n",
       "      <td>0.000000</td>\n",
       "      <td>1.000000</td>\n",
       "      <td>1.000000</td>\n",
       "      <td>1.000000</td>\n",
       "      <td>1.000000</td>\n",
       "      <td>0.000000</td>\n",
       "    </tr>\n",
       "    <tr>\n",
       "      <th>6</th>\n",
       "      <td>0.000000</td>\n",
       "      <td>1.000000</td>\n",
       "      <td>0.000000</td>\n",
       "      <td>0.000000</td>\n",
       "      <td>0.000000</td>\n",
       "      <td>0.000000</td>\n",
       "      <td>0.000000</td>\n",
       "    </tr>\n",
       "    <tr>\n",
       "      <th>7</th>\n",
       "      <td>1.000000</td>\n",
       "      <td>1.000000</td>\n",
       "      <td>0.000000</td>\n",
       "      <td>1.000000</td>\n",
       "      <td>0.000000</td>\n",
       "      <td>0.000000</td>\n",
       "      <td>0.000000</td>\n",
       "    </tr>\n",
       "    <tr>\n",
       "      <th>8</th>\n",
       "      <td>1.000000</td>\n",
       "      <td>0.000000</td>\n",
       "      <td>1.000000</td>\n",
       "      <td>0.000000</td>\n",
       "      <td>0.000000</td>\n",
       "      <td>0.000000</td>\n",
       "      <td>0.000000</td>\n",
       "    </tr>\n",
       "    <tr>\n",
       "      <th>9</th>\n",
       "      <td>1.000000</td>\n",
       "      <td>1.000000</td>\n",
       "      <td>1.000000</td>\n",
       "      <td>0.000000</td>\n",
       "      <td>0.000000</td>\n",
       "      <td>0.000000</td>\n",
       "      <td>0.000000</td>\n",
       "    </tr>\n",
       "    <tr>\n",
       "      <th>10</th>\n",
       "      <td>1.000000</td>\n",
       "      <td>1.000000</td>\n",
       "      <td>1.000000</td>\n",
       "      <td>0.000000</td>\n",
       "      <td>1.000000</td>\n",
       "      <td>0.000000</td>\n",
       "      <td>0.000000</td>\n",
       "    </tr>\n",
       "    <tr>\n",
       "      <th>11</th>\n",
       "      <td>1.000000</td>\n",
       "      <td>0.000000</td>\n",
       "      <td>1.000000</td>\n",
       "      <td>1.000000</td>\n",
       "      <td>1.000000</td>\n",
       "      <td>1.000000</td>\n",
       "      <td>0.000000</td>\n",
       "    </tr>\n",
       "  </tbody>\n",
       "</table>\n",
       "</div>"
      ],
      "text/plain": [
       "             0         1         2         3         4         5         6\n",
       "lbls                                                                      \n",
       "-1    0.502924  0.415205  0.497076  0.538012  0.520468  0.526316  0.532164\n",
       " 0    0.000000  1.000000  0.000000  0.000000  1.000000  0.000000  1.000000\n",
       " 1    0.000000  1.000000  0.000000  0.000000  1.000000  0.000000  0.000000\n",
       " 2    0.000000  1.000000  0.000000  1.000000  0.000000  1.000000  0.000000\n",
       " 3    0.000000  0.000000  1.000000  1.000000  1.000000  1.000000  1.000000\n",
       " 4    0.000000  1.000000  0.000000  1.000000  1.000000  0.000000  1.000000\n",
       " 5    0.000000  0.000000  1.000000  1.000000  1.000000  1.000000  0.000000\n",
       " 6    0.000000  1.000000  0.000000  0.000000  0.000000  0.000000  0.000000\n",
       " 7    1.000000  1.000000  0.000000  1.000000  0.000000  0.000000  0.000000\n",
       " 8    1.000000  0.000000  1.000000  0.000000  0.000000  0.000000  0.000000\n",
       " 9    1.000000  1.000000  1.000000  0.000000  0.000000  0.000000  0.000000\n",
       " 10   1.000000  1.000000  1.000000  0.000000  1.000000  0.000000  0.000000\n",
       " 11   1.000000  0.000000  1.000000  1.000000  1.000000  1.000000  0.000000"
      ]
     },
     "execution_count": 238,
     "metadata": {},
     "output_type": "execute_result"
    }
   ],
   "source": [
    "#df_2[\"x\"] = X\n",
    "df_2[\"lbls\"] = clstr.labels_\n",
    "df_2.groupby(\"lbls\").mean()"
   ]
  },
  {
   "cell_type": "markdown",
   "id": "6a0c90c9",
   "metadata": {},
   "source": [
    "Понятно, что алгоритм кластеризации склоняется к тому, чтобы выделить вершины гиперкуба (либо просто весь гиперкуб при другом параметре $\\epsilon$), что, потенциально, не совсем верно (совсем не верно) т.к. чисто технически это скорее просто одинаковые точки, а не кластеры, то есть не подмножества \"похожих\" точек. К тому же, даже если придерживаться идеи кластеризации по принципу \"кластер==вершина гиперкуба\" при большей \"выборке\" можно вообще дойти до того, что кластеров там будет $2^7$, что не круто с любых возможных прикладных позиций и, вероятно, абсолютно теряет всякую интепретируемость.\n",
    "\n",
    "Здесь я бы подумал о том, чтобы бинарные вектора привести к десятичным числам и кластеризовать уже их:"
   ]
  },
  {
   "cell_type": "code",
   "execution_count": 239,
   "id": "39e8a2dc",
   "metadata": {},
   "outputs": [],
   "source": [
    "def binatointeger(binary):\n",
    "    number = 0\n",
    "    for b in binary:\n",
    "        number = (2 * number) + b\n",
    "    return number#\n",
    "X=[binatointeger(df_2.loc[i].values) for i in range(len(df_2))]"
   ]
  },
  {
   "cell_type": "code",
   "execution_count": 258,
   "id": "c8f2bd60",
   "metadata": {},
   "outputs": [],
   "source": [
    "from sklearn.metrics import silhouette_score"
   ]
  },
  {
   "cell_type": "code",
   "execution_count": 266,
   "id": "3fa4f8d2",
   "metadata": {},
   "outputs": [
    {
     "name": "stdout",
     "output_type": "stream",
     "text": [
      " Силуэт: -0.049691614250458205 eps: 1 n: {0, 1, 2, 3, 4, 5, 6, 7, 8, 9, -1}\n",
      " Силуэт: 0.013905347897382419 eps: 5 n: {0, 1, 2}\n",
      " Силуэт: 0.033833562157288305 eps: 10 n: {0, 1}\n",
      " Силуэт: 0.033833562157288305 eps: 15 n: {0, 1}\n",
      " Силуэт: 0.033833562157288305 eps: 20 n: {0, 1}\n",
      " Силуэт: 0.033833562157288305 eps: 25 n: {0, 1}\n"
     ]
    }
   ],
   "source": [
    "for i in [1,5,10,15,20,25]:\n",
    "    clstr = DBSCAN(eps=i,min_samples=5,p=1)\n",
    "    clstr.fit(np.array(X).reshape(-1, 1))\n",
    "    lbl = clstr.labels_\n",
    "    print(f\" Силуэт: {silhouette_score(df_2[[1,2,3,4,5,6]],lbl)} eps: {i} n: {set(lbl)}\")"
   ]
  },
  {
   "cell_type": "markdown",
   "id": "a1e19ae5",
   "metadata": {},
   "source": [
    "Ну вот из соображений максимизации силуэта я бы предположил, что тут два кластера, которые предсттавляют из себя что-т вроде двух противоположных вершин гиперкуба, вокруг которых разбросаны точки."
   ]
  },
  {
   "cell_type": "markdown",
   "id": "fb44ff40",
   "metadata": {},
   "source": [
    "# Вопрос 4\n",
    "\n",
    "\n",
    "### Решение\n",
    "\n",
    "Идея заключается в следующем: понятно, что диверсификация портфеля - это хорошее решение, поскольку позволяет найти разумный компромисс между доходностью и риском. В связи с этими соображениями, я бы разделил все доступные источники на 3 группы: гарантированные, консервативные и рискованные.\n",
    "\n",
    "К группе гарантированных отнесем (индекс d), например, вклад по депозиту (теоретики обычно считают, что это ОФЗ). Этот актив характеризуется отсутствием риска и низкой дохожностью. \n",
    "\n",
    "К группе консервативных (индекс g) отнесем активы, которые могут как падать в цене, так и сокращаться, то есть риск по ним имеется, но небольшой, зато они дадут большую доходность, чем предыдущая группа. Эту группу будем условно считать вложением в золото.\n",
    "\n",
    "Наконец, рискованным активом (индекс s) будет вложение в акции. Для упрощения будем считать, что мы можем вкладываться только в фонды, например в S&P500. Понятно, что это наиболее рискованно, но и наиболее доходно.\n",
    "\n",
    "Мы будем работать со средней доходностью портфеля, которую можно записать так:\n",
    "\n",
    "$$R=w_dr_d+w_gr_g+w_sr_s$$\n",
    "\n",
    "Где $r_i$ - средняя доходность i-го актива, а $w_i$ - доля i-го актива в портфеле\n",
    "\n",
    "Соответсвенно, дисперсия (мера риска) доходности портфеля может быть записана так:\n",
    "\n",
    "$$D=w_d^2\\sigma_d^2+w_g^2\\sigma_g^2+w_s^2\\sigma_s^2=w_g^2\\sigma_g^2+w_s^2\\sigma_s^2$$\n",
    "\n",
    "(здесь мы, для простоты, считаем, что активы нескоррелированы и доходность вклада по депозиту безрисковая, то есть случайной величиной не является)\n",
    "\n",
    "Положим, взяв дисперсии с потолка, а доходности из даннных за последний год, что:\n",
    "\n",
    "$$r_d=16 ;\\sigma_d^2=0$$ \n",
    "$$r_g=20 ;\\sigma_g^2=1$$ \n",
    "$$r_s=25 ;\\sigma_s^2=2$$ \n",
    "\n",
    "Я консервативен, поэтому решать буду следующую задачу:\n",
    "\n",
    "$$1w_g^2+2w_s^2 \\rightarrow min$$\n",
    "S.T.\n",
    "$$16w_d+20w_g+25w_s=22$$\n",
    "$$w_d+w_g+w_s=1$$\n",
    "То есть я хочу минимизировать риск по портфелю, соглашаясь при это на доходность в 22% годовых."
   ]
  },
  {
   "cell_type": "code",
   "execution_count": 267,
   "id": "a1c3bbc9",
   "metadata": {},
   "outputs": [],
   "source": [
    "def disp(x):\n",
    "    w1,w2,w3=x\n",
    "    return w2**2+2*w3**2"
   ]
  },
  {
   "cell_type": "code",
   "execution_count": 277,
   "id": "ecf6fd7f",
   "metadata": {},
   "outputs": [
    {
     "name": "stdout",
     "output_type": "stream",
     "text": [
      "Итого я размещу 97346.21039558554 руб. на депозите, 424776.8212879459 руб. в виде золота и 477876.9683164685 руб. вложу в акции\n"
     ]
    }
   ],
   "source": [
    "x1=scipy.optimize.minimize(disp, x0=[1/3,1/3,1/3],\n",
    "         constraints = ({'type': 'eq', 'fun': lambda x:  x[0] + x[1] + x[2]-1},\n",
    "        {'type': 'eq', 'fun': lambda x: 16*x[0] + 20 * x[1] + 25 * x[2]-22}))\n",
    "print(f\"Итого я размещу {x1.x[0]*1000000} руб. на депозите, {x1.x[1]*1000000} руб. в виде золота и {x1.x[-1]*1000000} руб. вложу в акции\")"
   ]
  },
  {
   "cell_type": "markdown",
   "id": "cac00398",
   "metadata": {},
   "source": [
    "# Вопрос 5\n",
    "\n",
    "В моем понимании, ответ на этот вопрос в существенной степени сопряжен с конкретными задачами моделирвания. Скажем, если стоит задача полуения прозрачно  интерпретируемой модели (например, линейной), тогда со статистической точки зрения нам нужна хорошая стратегия идентификации параметров и, в общем-то, хороший дизайн эксперимента. Скажем, в линейной модели пропуск так называемых существенных переменных приводит к несостоятельности оценок, что для интерпретируемой и, по-сути, описательной модели, крайне нежелательно. В этом смысле соц-дем данные нам скорее необходимы, чем просто \"желательны\", в то время как все прочие признаки мы могли бы попытаться использовать как, например, инструментальные переменные.\n",
    "\n",
    "Если же решаемая задача носит скорее инженерный характер и от модели в первую очередь требуется давать адекватный прогноз на отложенной выборке, я бы подумал о том, как сопоставить возможные потери от неиспользования этих данных, поскольку их сбор, что очевино, тоже требудет каких-то ресурсов. Скажем, если данные добываются посредством опроса, следовало бы составить выборку (репрезентативную без этих признаков составлять сомнительно, наверное всё таки случайную), провести опрос, получить данные и сравнить метрики на отложенных выборках. Вероятно здесь также будет уместен подход feature importance, SHAP или какой-то другой, позволяющий оценить важность признаков для нашей модели: в конечном итоге может оказаться, что на самом деле самый важный признак - это какой-нибудь цвет кожи или этническая принадлежность, который можно и без привлечения доп ресурсов достать на основании информации об имени объекта.\n",
    "\n",
    "В любом случае, моя исследовательская практика говорит о том, что соц дем данные могут быть существенно зашумлены и мы можем наблюдать неадекватные ответы, которые даны чисто формально в связи с нежеланием человека давать на них ответы. На практике это может приводить как к не очень страшным последствиям в виде урезания выборки, так и к очень серьехным, связанным с self selection. Последнее, вообще говоря, может существенно влиять на резульаты в контексте обоих подходов к моделированию."
   ]
  }
 ],
 "metadata": {
  "kernelspec": {
   "display_name": "Python 3 (ipykernel)",
   "language": "python",
   "name": "python3"
  },
  "language_info": {
   "codemirror_mode": {
    "name": "ipython",
    "version": 3
   },
   "file_extension": ".py",
   "mimetype": "text/x-python",
   "name": "python",
   "nbconvert_exporter": "python",
   "pygments_lexer": "ipython3",
   "version": "3.9.13"
  }
 },
 "nbformat": 4,
 "nbformat_minor": 5
}
